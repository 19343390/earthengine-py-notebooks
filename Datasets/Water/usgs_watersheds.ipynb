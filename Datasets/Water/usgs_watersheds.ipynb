{
 "cells": [
  {
   "cell_type": "markdown",
   "metadata": {},
   "source": [
    "<table class=\"ee-notebook-buttons\" align=\"left\">\n",
    "    <td><a target=\"_blank\"  href=\"https://github.com/giswqs/earthengine-py-notebooks/tree/master/Datasets/Water/usgs_watersheds.ipynb\"><img width=32px src=\"https://www.tensorflow.org/images/GitHub-Mark-32px.png\" /> View source on GitHub</a></td>\n",
    "    <td><a target=\"_blank\"  href=\"https://nbviewer.jupyter.org/github/giswqs/earthengine-py-notebooks/blob/master/Datasets/Water/usgs_watersheds.ipynb\"><img width=26px src=\"https://upload.wikimedia.org/wikipedia/commons/thumb/3/38/Jupyter_logo.svg/883px-Jupyter_logo.svg.png\" />Notebook Viewer</a></td>\n",
    "    <td><a target=\"_blank\"  href=\"https://mybinder.org/v2/gh/giswqs/earthengine-py-notebooks/master?filepath=Datasets/Water/usgs_watersheds.ipynb\"><img width=58px src=\"https://mybinder.org/static/images/logo_social.png\" />Run in binder</a></td>\n",
    "    <td><a target=\"_blank\"  href=\"https://colab.research.google.com/github/giswqs/earthengine-py-notebooks/blob/master/Datasets/Water/usgs_watersheds.ipynb\"><img src=\"https://www.tensorflow.org/images/colab_logo_32px.png\" /> Run in Google Colab</a></td>\n",
    "</table>"
   ]
  },
  {
   "cell_type": "markdown",
   "metadata": {},
   "source": [
    "## Install Earth Engine API\n",
    "Install the [Earth Engine Python API](https://developers.google.com/earth-engine/python_install) and [geehydro](https://github.com/giswqs/geehydro). The **geehydro** Python package builds on the [folium](https://github.com/python-visualization/folium) package and implements several methods for displaying Earth Engine data layers, such as `Map.addLayer()`, `Map.setCenter()`, `Map.centerObject()`, and `Map.setOptions()`.\n",
    "The magic command `%%capture` can be used to hide output from a specific cell."
   ]
  },
  {
   "cell_type": "code",
   "execution_count": 1,
   "metadata": {},
   "outputs": [],
   "source": [
    "# %%capture\n",
    "# !pip install earthengine-api\n",
    "# !pip install geehydro"
   ]
  },
  {
   "cell_type": "markdown",
   "metadata": {},
   "source": [
    "Import libraries"
   ]
  },
  {
   "cell_type": "code",
   "execution_count": 2,
   "metadata": {},
   "outputs": [],
   "source": [
    "import ee\n",
    "import folium\n",
    "import geehydro"
   ]
  },
  {
   "cell_type": "markdown",
   "metadata": {},
   "source": [
    "Authenticate and initialize Earth Engine API. You only need to authenticate the Earth Engine API once. Uncomment the line `ee.Authenticate()` \n",
    "if you are running this notebook for this first time or if you are getting an authentication error.  "
   ]
  },
  {
   "cell_type": "code",
   "execution_count": 3,
   "metadata": {},
   "outputs": [],
   "source": [
    "# ee.Authenticate()\n",
    "ee.Initialize()"
   ]
  },
  {
   "cell_type": "markdown",
   "metadata": {},
   "source": [
    "## Create an interactive map \n",
    "This step creates an interactive map using [folium](https://github.com/python-visualization/folium). The default basemap is the OpenStreetMap. Additional basemaps can be added using the `Map.setOptions()` function. \n",
    "The optional basemaps can be `ROADMAP`, `SATELLITE`, `HYBRID`, `TERRAIN`, or `ESRI`."
   ]
  },
  {
   "cell_type": "code",
   "execution_count": 4,
   "metadata": {},
   "outputs": [],
   "source": [
    "Map = folium.Map(location=[40, -100], zoom_start=4)\n",
    "Map.setOptions('HYBRID')"
   ]
  },
  {
   "cell_type": "markdown",
   "metadata": {},
   "source": [
    "## Add Earth Engine Python script "
   ]
  },
  {
   "cell_type": "code",
   "execution_count": 5,
   "metadata": {},
   "outputs": [],
   "source": [
    "dataset = ee.FeatureCollection('USGS/WBD/2017/HUC02')\n",
    "styleParams = {\n",
    "  'fillColor': '000070',\n",
    "  'color': '0000be',\n",
    "  'width': 3.0,\n",
    "}\n",
    "regions = dataset.style(**styleParams)\n",
    "Map.setCenter(-96.8, 40.43, 4)\n",
    "Map.addLayer(regions, {}, 'USGS/WBD/2017/HUC02')\n",
    "\n",
    "\n",
    "dataset = ee.FeatureCollection('USGS/WBD/2017/HUC04')\n",
    "styleParams = {\n",
    "  'fillColor': '5885E3',\n",
    "  'color': '0000be',\n",
    "  'width': 3.0,\n",
    "}\n",
    "subregions = dataset.style(**styleParams)\n",
    "Map.setCenter(-110.904, 36.677, 7)\n",
    "Map.addLayer(subregions, {}, 'USGS/WBD/2017/HUC04')\n",
    "\n",
    "\n",
    "dataset = ee.FeatureCollection('USGS/WBD/2017/HUC06')\n",
    "styleParams = {\n",
    "  'fillColor': '588593',\n",
    "  'color': '587193',\n",
    "  'width': 3.0,\n",
    "}\n",
    "basins = dataset.style(**styleParams)\n",
    "Map.setCenter(-96.8, 40.43, 7)\n",
    "Map.addLayer(basins, {}, 'USGS/WBD/2017/HUC06')\n",
    "\n",
    "\n",
    "dataset = ee.FeatureCollection('USGS/WBD/2017/HUC08')\n",
    "styleParams = {\n",
    "  'fillColor': '2E8593',\n",
    "  'color': '587193',\n",
    "  'width': 2.0,\n",
    "}\n",
    "subbasins = dataset.style(**styleParams)\n",
    "Map.setCenter(-96.8, 40.43, 8)\n",
    "Map.addLayer(subbasins, {}, 'USGS/WBD/2017/HUC08')\n",
    "\n",
    "\n",
    "dataset = ee.FeatureCollection('USGS/WBD/2017/HUC10')\n",
    "styleParams = {\n",
    "  'fillColor': '2E85BB',\n",
    "  'color': '2E5D7E',\n",
    "  'width': 1.0,\n",
    "}\n",
    "watersheds = dataset.style(**styleParams)\n",
    "Map.setCenter(-96.8, 40.43, 9)\n",
    "Map.addLayer(watersheds, {}, 'USGS/WBD/2017/HUC10')\n",
    "\n",
    "\n",
    "dataset = ee.FeatureCollection('USGS/WBD/2017/HUC12')\n",
    "styleParams = {\n",
    "  'fillColor': '2E85BB',\n",
    "  'color': '2E5D7E',\n",
    "  'width': 0.1,\n",
    "}\n",
    "subwatersheds = dataset.style(**styleParams)\n",
    "Map.setCenter(-96.8, 40.43, 10)\n",
    "Map.addLayer(subwatersheds, {}, 'USGS/WBD/2017/HUC12')\n"
   ]
  },
  {
   "cell_type": "markdown",
   "metadata": {},
   "source": [
    "## Display Earth Engine data layers "
   ]
  },
  {
   "cell_type": "code",
   "execution_count": 6,
   "metadata": {},
   "outputs": [
    {
     "data": {
      "text/html": [
       "<div style=\"width:100%;\"><div style=\"position:relative;width:100%;height:0;padding-bottom:60%;\"><iframe src=\"data:text/html;charset=utf-8;base64,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\" style=\"position:absolute;width:100%;height:100%;left:0;top:0;border:none !important;\" allowfullscreen webkitallowfullscreen mozallowfullscreen></iframe></div></div>"
      ],
      "text/plain": [
       "<folium.folium.Map at 0x7f42a32f1198>"
      ]
     },
     "execution_count": 6,
     "metadata": {},
     "output_type": "execute_result"
    }
   ],
   "source": [
    "Map.setControlVisibility(layerControl=True, fullscreenControl=True, latLngPopup=True)\n",
    "Map"
   ]
  }
 ],
 "metadata": {
  "anaconda-cloud": {},
  "kernelspec": {
   "display_name": "Python 3",
   "language": "python",
   "name": "python3"
  },
  "language_info": {
   "codemirror_mode": {
    "name": "ipython",
    "version": 3
   },
   "file_extension": ".py",
   "mimetype": "text/x-python",
   "name": "python",
   "nbconvert_exporter": "python",
   "pygments_lexer": "ipython3",
   "version": "3.7.3"
  }
 },
 "nbformat": 4,
 "nbformat_minor": 1
}
