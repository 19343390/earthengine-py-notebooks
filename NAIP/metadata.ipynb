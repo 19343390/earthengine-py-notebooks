{
  "cells": [
    {
      "cell_type": "markdown",
      "metadata": {},
      "source": [
        "<table class=\"ee-notebook-buttons\" align=\"left\">\n",
        "    <td><a target=\"_blank\"  href=\"https://github.com/giswqs/earthengine-py-notebooks/tree/master/NAIP/metadata.ipynb\"><img width=32px src=\"https://www.tensorflow.org/images/GitHub-Mark-32px.png\" /> View source on GitHub</a></td>\n",
        "    <td><a target=\"_blank\"  href=\"https://nbviewer.jupyter.org/github/giswqs/earthengine-py-notebooks/blob/master/NAIP/metadata.ipynb\"><img width=26px src=\"https://upload.wikimedia.org/wikipedia/commons/thumb/3/38/Jupyter_logo.svg/883px-Jupyter_logo.svg.png\" />Notebook Viewer</a></td>\n",
        "    <td><a target=\"_blank\"  href=\"https://mybinder.org/v2/gh/giswqs/earthengine-py-notebooks/master?filepath=NAIP/metadata.ipynb\"><img width=58px src=\"https://mybinder.org/static/images/logo_social.png\" />Run in binder</a></td>\n",
        "    <td><a target=\"_blank\"  href=\"https://colab.research.google.com/github/giswqs/earthengine-py-notebooks/blob/master/NAIP/metadata.ipynb\"><img src=\"https://www.tensorflow.org/images/colab_logo_32px.png\" /> Run in Google Colab</a></td>\n",
        "</table>"
      ]
    },
    {
      "cell_type": "markdown",
      "metadata": {},
      "source": [
        "## Install Earth Engine API\n",
        "Install the [Earth Engine Python API](https://developers.google.com/earth-engine/python_install) and [geehydro](https://github.com/giswqs/geehydro). The **geehydro** Python package builds on the [folium](https://github.com/python-visualization/folium) package and implements several methods for displaying Earth Engine data layers, such as `Map.addLayer()`, `Map.setCenter()`, `Map.centerObject()`, and `Map.setOptions()`.\n",
        "The magic command `%%capture` can be used to hide output from a specific cell."
      ]
    },
    {
      "cell_type": "code",
      "metadata": {},
      "source": [
        "# %%capture\n",
        "# !pip install earthengine-api\n",
        "# !pip install geehydro"
      ],
      "outputs": [],
      "execution_count": null
    },
    {
      "cell_type": "markdown",
      "metadata": {},
      "source": [
        "Import libraries"
      ]
    },
    {
      "cell_type": "code",
      "metadata": {},
      "source": [
        "import ee\n",
        "import folium\n",
        "import geehydro"
      ],
      "outputs": [],
      "execution_count": null
    },
    {
      "cell_type": "markdown",
      "metadata": {},
      "source": [
        "Authenticate and initialize Earth Engine API. You only need to authenticate the Earth Engine API once. Uncomment the line `ee.Authenticate()` \n",
        "if you are running this notebook for this first time or if you are getting an authentication error.  "
      ]
    },
    {
      "cell_type": "code",
      "metadata": {},
      "source": [
        "# ee.Authenticate()\n",
        "ee.Initialize()"
      ],
      "outputs": [],
      "execution_count": null
    },
    {
      "cell_type": "markdown",
      "metadata": {},
      "source": [
        "## Create an interactive map \n",
        "This step creates an interactive map using [folium](https://github.com/python-visualization/folium). The default basemap is the OpenStreetMap. Additional basemaps can be added using the `Map.setOptions()` function. \n",
        "The optional basemaps can be `ROADMAP`, `SATELLITE`, `HYBRID`, `TERRAIN`, or `ESRI`."
      ]
    },
    {
      "cell_type": "code",
      "metadata": {},
      "source": [
        "Map = folium.Map(location=[40, -100], zoom_start=4)\n",
        "Map.setOptions('HYBRID')"
      ],
      "outputs": [],
      "execution_count": null
    },
    {
      "cell_type": "markdown",
      "metadata": {},
      "source": [
        "## Add Earth Engine Python script "
      ]
    },
    {
      "cell_type": "code",
      "metadata": {},
      "source": [
        "# fc = (ee.FeatureCollection('ft:1fRY18cjsHzDgGiJiS2nnpUU3v9JPDc2HNaR7Xk8')\n",
        "#       .filter(ee.Filter().eq('Name', 'Minnesota')))\n",
        "\n",
        "def print_image_id(image):\n",
        "    index = image.get('system:time_start')\n",
        "    print(index.getInfo())\n",
        "\n",
        "\n",
        "lat = 46.80514\n",
        "lng = -99.22023\n",
        "lng_lat = ee.Geometry.Point(lng, lat)\n",
        "\n",
        "collection = ee.ImageCollection('USDA/NAIP/DOQQ')\n",
        "naip = collection.filterBounds(lng_lat)\n",
        "naip_2015 = naip.filterDate('2010-01-01', '2015-12-31')\n",
        "\n",
        "# print(naip_2015.getInfo())\n",
        "# print(naip_2015.map(print_image_id))\n",
        "# Map.setCenter(lon, lat, 13)\n",
        "# Map.addLayer(naip_2015)\n",
        "\n",
        "\n",
        "image = ee.Image('USDA/NAIP/DOQQ/m_4609915_sw_14_1_20100629')\n",
        "bandNames = image.bandNames()\n",
        "print('Band names: ', bandNames.getInfo())\n",
        "\n",
        "b_nir = image.select('N')\n",
        "\n",
        "proj = b_nir.projection()\n",
        "print('Projection: ', proj.getInfo())\n",
        "\n",
        "props = b_nir.propertyNames()\n",
        "print(props.getInfo())\n",
        "\n",
        "img_date = ee.Date(image.get('system:time_start'))\n",
        "print('Timestamp: ', img_date.getInfo())\n",
        "\n",
        "id = image.get('system:index')\n",
        "print(id.getInfo())\n",
        "\n",
        "# print(image.getInfo())\n",
        "\n",
        "vis = {'bands': ['N', 'R', 'G']}\n",
        "# Map.setCenter(lng, lat, 12)\n",
        "# Map.addLayer(image,vis)\n",
        "\n",
        "\n",
        "size = naip_2015.toList(100).length()\n",
        "print(\"Number of images: \", size.getInfo())\n",
        "\n",
        "count = naip_2015.size()\n",
        "print(\"Count: \", count.getInfo())\n",
        "\n",
        "dates = ee.List(naip_2015.get('date_range'))\n",
        "date_range = ee.DateRange(dates.get(0),dates.get(1))\n",
        "print(\"Date range: \", date_range.getInfo())\n"
      ],
      "outputs": [],
      "execution_count": null
    },
    {
      "cell_type": "markdown",
      "metadata": {},
      "source": [
        "## Display Earth Engine data layers "
      ]
    },
    {
      "cell_type": "code",
      "metadata": {},
      "source": [
        "Map.setControlVisibility(layerControl=True, fullscreenControl=True, latLngPopup=True)\n",
        "Map"
      ],
      "outputs": [],
      "execution_count": null
    }
  ],
  "metadata": {
    "anaconda-cloud": {},
    "kernelspec": {
      "display_name": "Python 3",
      "language": "python",
      "name": "python3"
    },
    "language_info": {
      "codemirror_mode": {
        "name": "ipython",
        "version": 3
      },
      "file_extension": ".py",
      "mimetype": "text/x-python",
      "name": "python",
      "nbconvert_exporter": "python",
      "pygments_lexer": "ipython3",
      "version": "3.6.1"
    }
  },
  "nbformat": 4,
  "nbformat_minor": 1
}