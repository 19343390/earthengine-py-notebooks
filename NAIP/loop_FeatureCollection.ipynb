{
 "cells": [
  {
   "cell_type": "markdown",
   "metadata": {},
   "source": [
    "<table class=\"ee-notebook-buttons\" align=\"left\">\n",
    "    <td><a target=\"_blank\"  href=\"https://github.com/giswqs/earthengine-py-notebooks/tree/master/NAIP/loop_FeatureCollection.ipynb\"><img width=32px src=\"https://www.tensorflow.org/images/GitHub-Mark-32px.png\" /> View source on GitHub</a></td>\n",
    "    <td><a target=\"_blank\"  href=\"https://nbviewer.jupyter.org/github/giswqs/earthengine-py-notebooks/blob/master/NAIP/loop_FeatureCollection.ipynb\"><img width=26px src=\"https://upload.wikimedia.org/wikipedia/commons/thumb/3/38/Jupyter_logo.svg/883px-Jupyter_logo.svg.png\" />Notebook Viewer</a></td>\n",
    "    <td><a target=\"_blank\"  href=\"https://mybinder.org/v2/gh/giswqs/earthengine-py-notebooks/master?filepath=NAIP/loop_FeatureCollection.ipynb\"><img width=58px src=\"https://mybinder.org/static/images/logo_social.png\" />Run in binder</a></td>\n",
    "    <td><a target=\"_blank\"  href=\"https://colab.research.google.com/github/giswqs/earthengine-py-notebooks/blob/master/NAIP/loop_FeatureCollection.ipynb\"><img src=\"https://www.tensorflow.org/images/colab_logo_32px.png\" /> Run in Google Colab</a></td>\n",
    "</table>"
   ]
  },
  {
   "cell_type": "markdown",
   "metadata": {},
   "source": [
    "## Install Earth Engine API\n",
    "Install the [Earth Engine Python API](https://developers.google.com/earth-engine/python_install) and [geehydro](https://github.com/giswqs/geehydro). The **geehydro** Python package builds on the [folium](https://github.com/python-visualization/folium) package and implements several methods for displaying Earth Engine data layers, such as `Map.addLayer()`, `Map.setCenter()`, `Map.centerObject()`, and `Map.setOptions()`.\n",
    "The magic command `%%capture` can be used to hide output from a specific cell. Uncomment these lines if you are running this notebook for the first time."
   ]
  },
  {
   "cell_type": "code",
   "execution_count": 1,
   "metadata": {},
   "outputs": [],
   "source": [
    "# %%capture\n",
    "# !pip install earthengine-api\n",
    "# !pip install geehydro"
   ]
  },
  {
   "cell_type": "markdown",
   "metadata": {},
   "source": [
    "Import libraries"
   ]
  },
  {
   "cell_type": "code",
   "execution_count": 2,
   "metadata": {},
   "outputs": [],
   "source": [
    "import ee\n",
    "import folium\n",
    "import geehydro"
   ]
  },
  {
   "cell_type": "markdown",
   "metadata": {},
   "source": [
    "Authenticate and initialize Earth Engine API. You only need to authenticate the Earth Engine API once. Uncomment the line `ee.Authenticate()` \n",
    "if you are running this notebook for the first time or if you are getting an authentication error.  "
   ]
  },
  {
   "cell_type": "code",
   "execution_count": 3,
   "metadata": {},
   "outputs": [],
   "source": [
    "# ee.Authenticate()\n",
    "ee.Initialize()"
   ]
  },
  {
   "cell_type": "markdown",
   "metadata": {},
   "source": [
    "## Create an interactive map \n",
    "This step creates an interactive map using [folium](https://github.com/python-visualization/folium). The default basemap is the OpenStreetMap. Additional basemaps can be added using the `Map.setOptions()` function. \n",
    "The optional basemaps can be `ROADMAP`, `SATELLITE`, `HYBRID`, `TERRAIN`, or `ESRI`."
   ]
  },
  {
   "cell_type": "code",
   "execution_count": 4,
   "metadata": {},
   "outputs": [],
   "source": [
    "Map = folium.Map(location=[40, -100], zoom_start=4)\n",
    "Map.setOptions('HYBRID')"
   ]
  },
  {
   "cell_type": "markdown",
   "metadata": {},
   "source": [
    "## Add Earth Engine Python script "
   ]
  },
  {
   "cell_type": "code",
   "execution_count": 5,
   "metadata": {},
   "outputs": [
    {
     "name": "stdout",
     "output_type": "stream",
     "text": [
      "Y2015_2_Middle_Pipestem_Creek\n",
      "Y2015_3_Headwaters_Pipestem_Creek\n",
      "Y2015_4_Upper_Pipestem_Creek\n",
      "Y2015_5_Lower_Pipestem_Creek\n",
      "Y2015_6_Little_Pipestem_Creek\n"
     ]
    }
   ],
   "source": [
    "year = 2015\n",
    "collection = ee.ImageCollection('USDA/NAIP/DOQQ')\n",
    "startTime = ee.Date(str(year) + '-01-01')\n",
    "endTime = ee.Date(str(year) + '-12-31')\n",
    "# year = startTime.get('year').getInfo()\n",
    "# print(year)\n",
    "\n",
    "fromFT = ee.FeatureCollection('ft:1CLldB-ULPyULBT2mxoRNv7enckVF0gCQoD2oH7XP')\n",
    "# count = fromFT.size().getInfo()\n",
    "# print(count)\n",
    "polys = fromFT.geometry()\n",
    "centroid = polys.centroid()\n",
    "lng, lat = centroid.getInfo()['coordinates']\n",
    "# print(\"lng = {}, lat = {}\".format(lng, lat))\n",
    "\n",
    "\n",
    "values = fromFT.reduceColumns(ee.Reducer.toList(2), ['system:index', 'name']).getInfo()['list']\n",
    "# print(values)\n",
    "Map.setCenter(lng, lat, 10)\n",
    "\n",
    "\n",
    "def subsetNAIP(img_col, startTime, endTime, fc):\n",
    "    img = img_col.filterDate(startTime, endTime).filterBounds(fc).mosaic().clip(fc)\n",
    "    return img\n",
    "\n",
    "\n",
    "def calNDWI(image):\n",
    "    \"\"\"A function to compute NDWI.\"\"\"\n",
    "    ndwi = image.normalizedDifference(['G', 'N'])\n",
    "    ndwiViz = {'min': 0, 'max': 1, 'palette': ['00FFFF', '0000FF']}\n",
    "    ndwiMasked = ndwi.updateMask(ndwi.gte(0.2))\n",
    "    ndwi_bin = ndwiMasked.gt(0)\n",
    "    patch_size = ndwi_bin.connectedPixelCount(500, True)\n",
    "    large_patches = patch_size.eq(500)\n",
    "    large_patches = large_patches.updateMask(large_patches)\n",
    "    opened = large_patches.focal_min(1).focal_max(1)\n",
    "    return opened\n",
    "\n",
    "\n",
    "def rasterToVector(img, fc):\n",
    "    vec = img.reduceToVectors(geometry=fc, eightConnected=True, maxPixels=59568116121, crs=img.projection(), scale=1)\n",
    "    return vec\n",
    "\n",
    "\n",
    "def exportToDrive(vec, filename):\n",
    "    taskParams = {\n",
    "        'driveFolder': 'image',\n",
    "        'fileFormat': 'KML'\n",
    "    }\n",
    "    task = ee.batch.Export.table(vec, filename, taskParams)\n",
    "    task.start()\n",
    "\n",
    "\n",
    "vis = {'bands': ['N', 'R', 'G']}\n",
    "for (id, name) in values:\n",
    "    watershed = fromFT.filter(ee.Filter.eq('system:index', str(id)))\n",
    "    filename = \"Y\" + str(year) + \"_\" + str(id) + \"_\" + str(name).replace(\" \", \"_\")\n",
    "    print(filename)\n",
    "    image = subsetNAIP(collection, startTime, endTime, watershed)\n",
    "    ndwi = calNDWI(image)\n",
    "    vector = rasterToVector(ndwi, watershed)\n",
    "    exportToDrive(vector, filename)\n",
    "    # Map.addLayer(image, vis)\n",
    "    # Map.addLayer(vector)\n",
    "\n",
    "\n",
    "\n",
    "\n",
    "# for i in range(2, 2 + count):\n",
    "#     watershed = fromFT.filter(ee.Filter.eq('system:index', str(i)))\n",
    "#     re = fc.filterBounds(watershed)\n",
    "    # task = ee.batch.Export.table(re, 'watershed-' + str(i), taskParams)\n",
    "    # task.start()\n",
    "    #\n",
    "\n",
    "\n",
    "#\n",
    "#\n",
    "# lng_lat = ee.Geometry.Point(lng, lat)\n",
    "# naip = collection.filterBounds(polys)\n",
    "# naip_2015 = naip.filterDate('2015-01-01', '2015-12-31')\n",
    "# ppr = naip_2015.mosaic()\n",
    "#\n",
    "# count = naip_2015.size().getInfo()\n",
    "# print(\"Count: \", count)\n",
    "#\n",
    "# # print(naip_2015.size().getInfo())\n",
    "# vis = {'bands': ['N', 'R', 'G']}\n",
    "# Map.setCenter(lng, lat, 12)\n",
    "# Map.addLayer(ppr,vis)\n",
    "# # Map.addLayer(polys)\n",
    "#\n",
    "# def NDWI(image):\n",
    "#     \"\"\"A function to compute NDWI.\"\"\"\n",
    "#     ndwi = image.normalizedDifference(['G', 'N'])\n",
    "#     ndwiViz = {'min': 0, 'max': 1, 'palette': ['00FFFF', '0000FF']}\n",
    "#     ndwiMasked = ndwi.updateMask(ndwi.gte(0.05))\n",
    "#     ndwi_bin = ndwiMasked.gt(0)\n",
    "#     patch_size = ndwi_bin.connectedPixelCount(500, True)\n",
    "#     large_patches = patch_size.eq(500)\n",
    "#     large_patches = large_patches.updateMask(large_patches)\n",
    "#     opened = large_patches.focal_min(1).focal_max(1)\n",
    "#     return opened\n",
    "#\n",
    "# ndwi_collection = naip_2015.map(NDWI)\n",
    "# # Map.addLayer(ndwi_collection)\n",
    "# # print(ndwi_collection.getInfo())\n",
    "#\n",
    "# # downConfig = {'scale': 10, \"maxPixels\": 1.0E13, 'driveFolder': 'image'}  # scale means resolution.\n",
    "# # img_lst = ndwi_collection.toList(100)\n",
    "# #\n",
    "# # taskParams = {\n",
    "# #     'driveFolder': 'image',\n",
    "# #     'driveFileNamePrefix': 'ndwi',\n",
    "# #     'fileFormat': 'KML'\n",
    "# # }\n",
    "# #\n",
    "# # for i in range(0, count):\n",
    "# #     image = ee.Image(img_lst.get(i))\n",
    "# #     name = image.get('system:index').getInfo()\n",
    "# #     print(name)\n",
    "# #     # task = ee.batch.Export.image(image, \"ndwi2-\" + name, downConfig)\n",
    "# #     # task.start()\n",
    "#\n",
    "# mosaic = ndwi_collection.mosaic().clip(polys)\n",
    "# fc = mosaic.reduceToVectors(eightConnected=True, maxPixels=59568116121, crs=mosaic.projection(), scale=1)\n",
    "# # Map.addLayer(fc)\n",
    "# taskParams = {\n",
    "#     'driveFolder': 'image',\n",
    "#     'driveFileNamePrefix': 'water',\n",
    "#     'fileFormat': 'KML'\n",
    "# }\n",
    "#\n",
    "# count = fromFT.size().getInfo()\n",
    "# Map.setCenter(lng, lat, 10)\n",
    "#\n",
    "# for i in range(2, 2 + count):\n",
    "#     watershed = fromFT.filter(ee.Filter.eq('system:index', str(i)))\n",
    "#     re = fc.filterBounds(watershed)\n",
    "#     # task = ee.batch.Export.table(re, 'watershed-' + str(i), taskParams)\n",
    "#     # task.start()\n",
    "#     # Map.addLayer(fc)\n",
    "#\n",
    "#\n",
    "# # lpc = fromFT.filter(ee.Filter.eq('name', 'Little Pipestem Creek'))\n"
   ]
  },
  {
   "cell_type": "markdown",
   "metadata": {},
   "source": [
    "## Display Earth Engine data layers "
   ]
  },
  {
   "cell_type": "code",
   "execution_count": 6,
   "metadata": {},
   "outputs": [
    {
     "data": {
      "text/html": [
       "<div style=\"width:100%;\"><div style=\"position:relative;width:100%;height:0;padding-bottom:60%;\"><iframe src=\"data:text/html;charset=utf-8;base64,PCFET0NUWVBFIGh0bWw+CjxoZWFkPiAgICAKICAgIDxtZXRhIGh0dHAtZXF1aXY9ImNvbnRlbnQtdHlwZSIgY29udGVudD0idGV4dC9odG1sOyBjaGFyc2V0PVVURi04IiAvPgogICAgCiAgICAgICAgPHNjcmlwdD4KICAgICAgICAgICAgTF9OT19UT1VDSCA9IGZhbHNlOwogICAgICAgICAgICBMX0RJU0FCTEVfM0QgPSBmYWxzZTsKICAgICAgICA8L3NjcmlwdD4KICAgIAogICAgPHNjcmlwdCBzcmM9Imh0dHBzOi8vY2RuLmpzZGVsaXZyLm5ldC9ucG0vbGVhZmxldEAxLjUuMS9kaXN0L2xlYWZsZXQuanMiPjwvc2NyaXB0PgogICAgPHNjcmlwdCBzcmM9Imh0dHBzOi8vY29kZS5qcXVlcnkuY29tL2pxdWVyeS0xLjEyLjQubWluLmpzIj48L3NjcmlwdD4KICAgIDxzY3JpcHQgc3JjPSJodHRwczovL21heGNkbi5ib290c3RyYXBjZG4uY29tL2Jvb3RzdHJhcC8zLjIuMC9qcy9ib290c3RyYXAubWluLmpzIj48L3NjcmlwdD4KICAgIDxzY3JpcHQgc3JjPSJodHRwczovL2NkbmpzLmNsb3VkZmxhcmUuY29tL2FqYXgvbGlicy9MZWFmbGV0LmF3ZXNvbWUtbWFya2Vycy8yLjAuMi9sZWFmbGV0LmF3ZXNvbWUtbWFya2Vycy5qcyI+PC9zY3JpcHQ+CiAgICA8bGluayByZWw9InN0eWxlc2hlZXQiIGhyZWY9Imh0dHBzOi8vY2RuLmpzZGVsaXZyLm5ldC9ucG0vbGVhZmxldEAxLjUuMS9kaXN0L2xlYWZsZXQuY3NzIi8+CiAgICA8bGluayByZWw9InN0eWxlc2hlZXQiIGhyZWY9Imh0dHBzOi8vbWF4Y2RuLmJvb3RzdHJhcGNkbi5jb20vYm9vdHN0cmFwLzMuMi4wL2Nzcy9ib290c3RyYXAubWluLmNzcyIvPgogICAgPGxpbmsgcmVsPSJzdHlsZXNoZWV0IiBocmVmPSJodHRwczovL21heGNkbi5ib290c3RyYXBjZG4uY29tL2Jvb3RzdHJhcC8zLjIuMC9jc3MvYm9vdHN0cmFwLXRoZW1lLm1pbi5jc3MiLz4KICAgIDxsaW5rIHJlbD0ic3R5bGVzaGVldCIgaHJlZj0iaHR0cHM6Ly9tYXhjZG4uYm9vdHN0cmFwY2RuLmNvbS9mb250LWF3ZXNvbWUvNC42LjMvY3NzL2ZvbnQtYXdlc29tZS5taW4uY3NzIi8+CiAgICA8bGluayByZWw9InN0eWxlc2hlZXQiIGhyZWY9Imh0dHBzOi8vY2RuanMuY2xvdWRmbGFyZS5jb20vYWpheC9saWJzL0xlYWZsZXQuYXdlc29tZS1tYXJrZXJzLzIuMC4yL2xlYWZsZXQuYXdlc29tZS1tYXJrZXJzLmNzcyIvPgogICAgPGxpbmsgcmVsPSJzdHlsZXNoZWV0IiBocmVmPSJodHRwczovL3Jhd2Nkbi5naXRoYWNrLmNvbS9weXRob24tdmlzdWFsaXphdGlvbi9mb2xpdW0vbWFzdGVyL2ZvbGl1bS90ZW1wbGF0ZXMvbGVhZmxldC5hd2Vzb21lLnJvdGF0ZS5jc3MiLz4KICAgIDxzdHlsZT5odG1sLCBib2R5IHt3aWR0aDogMTAwJTtoZWlnaHQ6IDEwMCU7bWFyZ2luOiAwO3BhZGRpbmc6IDA7fTwvc3R5bGU+CiAgICA8c3R5bGU+I21hcCB7cG9zaXRpb246YWJzb2x1dGU7dG9wOjA7Ym90dG9tOjA7cmlnaHQ6MDtsZWZ0OjA7fTwvc3R5bGU+CiAgICAKICAgICAgICAgICAgPG1ldGEgbmFtZT0idmlld3BvcnQiIGNvbnRlbnQ9IndpZHRoPWRldmljZS13aWR0aCwKICAgICAgICAgICAgICAgIGluaXRpYWwtc2NhbGU9MS4wLCBtYXhpbXVtLXNjYWxlPTEuMCwgdXNlci1zY2FsYWJsZT1ubyIgLz4KICAgICAgICAgICAgPHN0eWxlPgogICAgICAgICAgICAgICAgI21hcF8xMmY1YTk2YzVlNTg0YThhOTZlYzI4NDM2YTJjMTQ0YSB7CiAgICAgICAgICAgICAgICAgICAgcG9zaXRpb246IHJlbGF0aXZlOwogICAgICAgICAgICAgICAgICAgIHdpZHRoOiAxMDAuMCU7CiAgICAgICAgICAgICAgICAgICAgaGVpZ2h0OiAxMDAuMCU7CiAgICAgICAgICAgICAgICAgICAgbGVmdDogMC4wJTsKICAgICAgICAgICAgICAgICAgICB0b3A6IDAuMCU7CiAgICAgICAgICAgICAgICB9CiAgICAgICAgICAgIDwvc3R5bGU+CiAgICAgICAgCiAgICA8c2NyaXB0IHNyYz0iaHR0cHM6Ly9jZG5qcy5jbG91ZGZsYXJlLmNvbS9hamF4L2xpYnMvbGVhZmxldC5mdWxsc2NyZWVuLzEuNC4yL0NvbnRyb2wuRnVsbFNjcmVlbi5taW4uanMiPjwvc2NyaXB0PgogICAgPGxpbmsgcmVsPSJzdHlsZXNoZWV0IiBocmVmPSJodHRwczovL2NkbmpzLmNsb3VkZmxhcmUuY29tL2FqYXgvbGlicy9sZWFmbGV0LmZ1bGxzY3JlZW4vMS40LjIvQ29udHJvbC5GdWxsU2NyZWVuLm1pbi5jc3MiLz4KPC9oZWFkPgo8Ym9keT4gICAgCiAgICAKICAgICAgICAgICAgPGRpdiBjbGFzcz0iZm9saXVtLW1hcCIgaWQ9Im1hcF8xMmY1YTk2YzVlNTg0YThhOTZlYzI4NDM2YTJjMTQ0YSIgPjwvZGl2PgogICAgICAgIAo8L2JvZHk+CjxzY3JpcHQ+ICAgIAogICAgCiAgICAgICAgICAgIHZhciBtYXBfMTJmNWE5NmM1ZTU4NGE4YTk2ZWMyODQzNmEyYzE0NGEgPSBMLm1hcCgKICAgICAgICAgICAgICAgICJtYXBfMTJmNWE5NmM1ZTU4NGE4YTk2ZWMyODQzNmEyYzE0NGEiLAogICAgICAgICAgICAgICAgewogICAgICAgICAgICAgICAgICAgIGNlbnRlcjogWzQwLjAsIC0xMDAuMF0sCiAgICAgICAgICAgICAgICAgICAgY3JzOiBMLkNSUy5FUFNHMzg1NywKICAgICAgICAgICAgICAgICAgICB6b29tOiA0LAogICAgICAgICAgICAgICAgICAgIHpvb21Db250cm9sOiB0cnVlLAogICAgICAgICAgICAgICAgICAgIHByZWZlckNhbnZhczogZmFsc2UsCiAgICAgICAgICAgICAgICB9CiAgICAgICAgICAgICk7CgogICAgICAgICAgICAKCiAgICAgICAgCiAgICAKICAgICAgICAgICAgdmFyIHRpbGVfbGF5ZXJfZjYwYjFiMzQzZjE4NDY3OGFiMTkxYzYyMDg1YjM1OWIgPSBMLnRpbGVMYXllcigKICAgICAgICAgICAgICAgICJodHRwczovL3tzfS50aWxlLm9wZW5zdHJlZXRtYXAub3JnL3t6fS97eH0ve3l9LnBuZyIsCiAgICAgICAgICAgICAgICB7ImF0dHJpYnV0aW9uIjogIkRhdGEgYnkgXHUwMDI2Y29weTsgXHUwMDNjYSBocmVmPVwiaHR0cDovL29wZW5zdHJlZXRtYXAub3JnXCJcdTAwM2VPcGVuU3RyZWV0TWFwXHUwMDNjL2FcdTAwM2UsIHVuZGVyIFx1MDAzY2EgaHJlZj1cImh0dHA6Ly93d3cub3BlbnN0cmVldG1hcC5vcmcvY29weXJpZ2h0XCJcdTAwM2VPRGJMXHUwMDNjL2FcdTAwM2UuIiwgImRldGVjdFJldGluYSI6IGZhbHNlLCAibWF4TmF0aXZlWm9vbSI6IDE4LCAibWF4Wm9vbSI6IDE4LCAibWluWm9vbSI6IDAsICJub1dyYXAiOiBmYWxzZSwgIm9wYWNpdHkiOiAxLCAic3ViZG9tYWlucyI6ICJhYmMiLCAidG1zIjogZmFsc2V9CiAgICAgICAgICAgICkuYWRkVG8obWFwXzEyZjVhOTZjNWU1ODRhOGE5NmVjMjg0MzZhMmMxNDRhKTsKICAgICAgICAKICAgIAogICAgICAgICAgICB2YXIgdGlsZV9sYXllcl80OTM2YWQ4OTNjMTM0NTQwYmZkZmJkMWU0ODU4MjgzNyA9IEwudGlsZUxheWVyKAogICAgICAgICAgICAgICAgImh0dHBzOi8vbXQxLmdvb2dsZS5jb20vdnQvbHlycz15XHUwMDI2eD17eH1cdTAwMjZ5PXt5fVx1MDAyNno9e3p9IiwKICAgICAgICAgICAgICAgIHsiYXR0cmlidXRpb24iOiAiR29vZ2xlIiwgImRldGVjdFJldGluYSI6IGZhbHNlLCAibWF4TmF0aXZlWm9vbSI6IDE4LCAibWF4Wm9vbSI6IDE4LCAibWluWm9vbSI6IDAsICJub1dyYXAiOiBmYWxzZSwgIm9wYWNpdHkiOiAxLCAic3ViZG9tYWlucyI6ICJhYmMiLCAidG1zIjogZmFsc2V9CiAgICAgICAgICAgICkuYWRkVG8obWFwXzEyZjVhOTZjNWU1ODRhOGE5NmVjMjg0MzZhMmMxNDRhKTsKICAgICAgICAKICAgIAogICAgICAgICAgICBtYXBfMTJmNWE5NmM1ZTU4NGE4YTk2ZWMyODQzNmEyYzE0NGEuZml0Qm91bmRzKAogICAgICAgICAgICAgICAgW1s0Ny4yMDQ0NDU4MDQwODA4OSwgLTk5LjIyNjQ3Njk3MDQ5ODgyXSwgWzQ3LjIwNDQ0NTgwNDA4MDg5LCAtOTkuMjI2NDc2OTcwNDk4ODJdXSwKICAgICAgICAgICAgICAgIHsibWF4Wm9vbSI6IDEwfQogICAgICAgICAgICApOwogICAgICAgIAogICAgCiAgICAgICAgICAgIHZhciBsYXllcl9jb250cm9sX2ZmYmFlOTgxMjFhMDQ0M2VhZDA2OTk5ZWZiZDBhZjMxID0gewogICAgICAgICAgICAgICAgYmFzZV9sYXllcnMgOiB7CiAgICAgICAgICAgICAgICAgICAgIm9wZW5zdHJlZXRtYXAiIDogdGlsZV9sYXllcl9mNjBiMWIzNDNmMTg0Njc4YWIxOTFjNjIwODViMzU5YiwKICAgICAgICAgICAgICAgIH0sCiAgICAgICAgICAgICAgICBvdmVybGF5cyA6ICB7CiAgICAgICAgICAgICAgICAgICAgIkdvb2dsZSBTYXRlbGxpdGUiIDogdGlsZV9sYXllcl80OTM2YWQ4OTNjMTM0NTQwYmZkZmJkMWU0ODU4MjgzNywKICAgICAgICAgICAgICAgIH0sCiAgICAgICAgICAgIH07CiAgICAgICAgICAgIEwuY29udHJvbC5sYXllcnMoCiAgICAgICAgICAgICAgICBsYXllcl9jb250cm9sX2ZmYmFlOTgxMjFhMDQ0M2VhZDA2OTk5ZWZiZDBhZjMxLmJhc2VfbGF5ZXJzLAogICAgICAgICAgICAgICAgbGF5ZXJfY29udHJvbF9mZmJhZTk4MTIxYTA0NDNlYWQwNjk5OWVmYmQwYWYzMS5vdmVybGF5cywKICAgICAgICAgICAgICAgIHsiYXV0b1pJbmRleCI6IHRydWUsICJjb2xsYXBzZWQiOiB0cnVlLCAicG9zaXRpb24iOiAidG9wcmlnaHQifQogICAgICAgICAgICApLmFkZFRvKG1hcF8xMmY1YTk2YzVlNTg0YThhOTZlYzI4NDM2YTJjMTQ0YSk7CiAgICAgICAgCiAgICAKICAgICAgICAgICAgTC5jb250cm9sLmZ1bGxzY3JlZW4oCiAgICAgICAgICAgICAgICB7ImZvcmNlU2VwYXJhdGVCdXR0b24iOiBmYWxzZSwgInBvc2l0aW9uIjogInRvcGxlZnQiLCAidGl0bGUiOiAiRnVsbCBTY3JlZW4iLCAidGl0bGVDYW5jZWwiOiAiRXhpdCBGdWxsIFNjcmVlbiJ9CiAgICAgICAgICAgICkuYWRkVG8obWFwXzEyZjVhOTZjNWU1ODRhOGE5NmVjMjg0MzZhMmMxNDRhKTsKICAgICAgICAKICAgIAogICAgICAgICAgICAgICAgdmFyIGxhdF9sbmdfcG9wdXBfNjI4YzkwODVjMzk0NGJlZDgxYTUwODliNGM0OTk3ZWMgPSBMLnBvcHVwKCk7CiAgICAgICAgICAgICAgICBmdW5jdGlvbiBsYXRMbmdQb3AoZSkgewogICAgICAgICAgICAgICAgICAgIGxhdF9sbmdfcG9wdXBfNjI4YzkwODVjMzk0NGJlZDgxYTUwODliNGM0OTk3ZWMKICAgICAgICAgICAgICAgICAgICAgICAgLnNldExhdExuZyhlLmxhdGxuZykKICAgICAgICAgICAgICAgICAgICAgICAgLnNldENvbnRlbnQoIkxhdGl0dWRlOiAiICsgZS5sYXRsbmcubGF0LnRvRml4ZWQoNCkgKwogICAgICAgICAgICAgICAgICAgICAgICAgICAgICAgICAgICAiPGJyPkxvbmdpdHVkZTogIiArIGUubGF0bG5nLmxuZy50b0ZpeGVkKDQpKQogICAgICAgICAgICAgICAgICAgICAgICAub3Blbk9uKG1hcF8xMmY1YTk2YzVlNTg0YThhOTZlYzI4NDM2YTJjMTQ0YSk7CiAgICAgICAgICAgICAgICAgICAgfQogICAgICAgICAgICAgICAgbWFwXzEyZjVhOTZjNWU1ODRhOGE5NmVjMjg0MzZhMmMxNDRhLm9uKCdjbGljaycsIGxhdExuZ1BvcCk7CiAgICAgICAgICAgIAo8L3NjcmlwdD4=\" style=\"position:absolute;width:100%;height:100%;left:0;top:0;border:none !important;\" allowfullscreen webkitallowfullscreen mozallowfullscreen></iframe></div></div>"
      ],
      "text/plain": [
       "<folium.folium.Map at 0x7fb8de1bc0f0>"
      ]
     },
     "execution_count": 6,
     "metadata": {},
     "output_type": "execute_result"
    }
   ],
   "source": [
    "Map.setControlVisibility(layerControl=True, fullscreenControl=True, latLngPopup=True)\n",
    "Map"
   ]
  }
 ],
 "metadata": {
  "anaconda-cloud": {},
  "kernelspec": {
   "display_name": "Python 3",
   "language": "python",
   "name": "python3"
  },
  "language_info": {
   "codemirror_mode": {
    "name": "ipython",
    "version": 3
   },
   "file_extension": ".py",
   "mimetype": "text/x-python",
   "name": "python",
   "nbconvert_exporter": "python",
   "pygments_lexer": "ipython3",
   "version": "3.7.3"
  }
 },
 "nbformat": 4,
 "nbformat_minor": 1
}
