{
  "cells": [
    {
      "cell_type": "markdown",
      "metadata": {},
      "source": [
        "<table class=\"ee-notebook-buttons\" align=\"left\">\n",
        "    <td><a target=\"_blank\"  href=\"https://github.com/giswqs/earthengine-py-notebooks/tree/master/Array/spectral_unmixing.ipynb\"><img width=32px src=\"https://www.tensorflow.org/images/GitHub-Mark-32px.png\" /> View source on GitHub</a></td>\n",
        "    <td><a target=\"_blank\"  href=\"https://nbviewer.jupyter.org/github/giswqs/earthengine-py-notebooks/blob/master/Array/spectral_unmixing.ipynb\"><img width=26px src=\"https://upload.wikimedia.org/wikipedia/commons/thumb/3/38/Jupyter_logo.svg/883px-Jupyter_logo.svg.png\" />Notebook Viewer</a></td>\n",
        "    <td><a target=\"_blank\"  href=\"https://mybinder.org/v2/gh/giswqs/earthengine-py-notebooks/master?filepath=Array/spectral_unmixing.ipynb\"><img width=58px src=\"https://mybinder.org/static/images/logo_social.png\" />Run in binder</a></td>\n",
        "    <td><a target=\"_blank\"  href=\"https://colab.research.google.com/github/giswqs/earthengine-py-notebooks/blob/master/Array/spectral_unmixing.ipynb\"><img src=\"https://www.tensorflow.org/images/colab_logo_32px.png\" /> Run in Google Colab</a></td>\n",
        "</table>"
      ]
    },
    {
      "cell_type": "markdown",
      "metadata": {},
      "source": [
        "## Install Earth Engine API\n",
        "Install the [Earth Engine Python API](https://developers.google.com/earth-engine/python_install) and [geehydro](https://github.com/giswqs/geehydro). The **geehydro** Python package builds on the [folium](https://github.com/python-visualization/folium) package and implements several methods for displaying Earth Engine data layers, such as `Map.addLayer()`, `Map.setCenter()`, `Map.centerObject()`, and `Map.setOptions()`.\n",
        "The magic command `%%capture` can be used to hide output from a specific cell."
      ]
    },
    {
      "cell_type": "code",
      "metadata": {},
      "source": [
        "# %%capture\n",
        "# !pip install earthengine-api\n",
        "# !pip install geehydro"
      ],
      "outputs": [],
      "execution_count": null
    },
    {
      "cell_type": "markdown",
      "metadata": {},
      "source": [
        "Import libraries"
      ]
    },
    {
      "cell_type": "code",
      "metadata": {},
      "source": [
        "import ee\n",
        "import folium\n",
        "import geehydro"
      ],
      "outputs": [],
      "execution_count": null
    },
    {
      "cell_type": "markdown",
      "metadata": {},
      "source": [
        "Authenticate and initialize Earth Engine API. You only need to authenticate the Earth Engine API once. Uncomment the line `ee.Authenticate()` \n",
        "if you are running this notebook for this first time or if you are getting an authentication error.  "
      ]
    },
    {
      "cell_type": "code",
      "metadata": {},
      "source": [
        "# ee.Authenticate()\n",
        "ee.Initialize()"
      ],
      "outputs": [],
      "execution_count": null
    },
    {
      "cell_type": "markdown",
      "metadata": {},
      "source": [
        "## Create an interactive map \n",
        "This step creates an interactive map using [folium](https://github.com/python-visualization/folium). The default basemap is the OpenStreetMap. Additional basemaps can be added using the `Map.setOptions()` function. \n",
        "The optional basemaps can be `ROADMAP`, `SATELLITE`, `HYBRID`, `TERRAIN`, or `ESRI`."
      ]
    },
    {
      "cell_type": "code",
      "metadata": {},
      "source": [
        "Map = folium.Map(location=[40, -100], zoom_start=4)\n",
        "Map.setOptions('HYBRID')"
      ],
      "outputs": [],
      "execution_count": null
    },
    {
      "cell_type": "markdown",
      "metadata": {},
      "source": [
        "## Add Earth Engine Python script "
      ]
    },
    {
      "cell_type": "code",
      "metadata": {},
      "source": [
        "# Array-based spectral unmixing.\n",
        "\n",
        "# Create a mosaic of Landsat 5 images from June through September, 2007.\n",
        "allBandMosaic = ee.ImageCollection('LANDSAT/LT05/C01/T1') \\\n",
        "  .filterDate('2007-06-01', '2007-09-30') \\\n",
        "  .select('B[0-7]') \\\n",
        "  .median()\n",
        "\n",
        "# Create some representative endmembers computed previously by sampling\n",
        "# the Landsat 5 mosaic.\n",
        "urbanEndmember = [88, 42, 48, 38, 86, 115, 59]\n",
        "vegEndmember = [50, 21, 20, 35, 50, 110, 23]\n",
        "waterEndmember = [51, 20, 14, 9, 7, 116, 4]\n",
        "\n",
        "# Compute the 3x7 pseudo inverse.\n",
        "endmembers = ee.Array([urbanEndmember, vegEndmember, waterEndmember])\n",
        "inverse = ee.Image(endmembers.matrixPseudoInverse().transpose())\n",
        "\n",
        "# Convert the bands to a 2D 7x1 array. The toArray() call concatenates\n",
        "# pixels from each band along the default axis 0 into a 1D vector per\n",
        "# pixel, and the toArray(1) call concatenates each band (in this case\n",
        "# just the one band of 1D vectors) along axis 1, forming a 2D array.\n",
        "inputValues = allBandMosaic.toArray().toArray(1)\n",
        "\n",
        "# Matrix multiply the pseudo inverse of the endmembers by the pixels to\n",
        "# get a 3x1 set of endmembers fractions from 0 to 1.\n",
        "unmixed = inverse.matrixMultiply(inputValues)\n",
        "\n",
        "# Create and show a colored image of the endmember fractions. Since we know\n",
        "# the result has size 3x1, project down to 1D vectors at each pixel (since the\n",
        "# second axis is pointless now), and then flatten back to a regular scalar\n",
        "# image.\n",
        "colored = unmixed \\\n",
        "  .arrayProject([0]) \\\n",
        "  .arrayFlatten([['urban', 'veg', 'water']])\n",
        "Map.setCenter(-98.4, 19, 11)\n",
        "\n",
        "# Load a hillshade to use as a backdrop.\n",
        "Map.addLayer(ee.Algorithms.Terrain(ee.Image('CGIAR/SRTM90_V4')).select('hillshade'))\n",
        "Map.addLayer(colored, {'min': 0, 'max': 1},\n",
        "  'Unmixed (red=urban, green=veg, blue=water)')\n"
      ],
      "outputs": [],
      "execution_count": null
    },
    {
      "cell_type": "markdown",
      "metadata": {},
      "source": [
        "## Display Earth Engine data layers "
      ]
    },
    {
      "cell_type": "code",
      "metadata": {},
      "source": [
        "Map.setControlVisibility(layerControl=True, fullscreenControl=True, latLngPopup=True)\n",
        "Map"
      ],
      "outputs": [],
      "execution_count": null
    }
  ],
  "metadata": {
    "anaconda-cloud": {},
    "kernelspec": {
      "display_name": "Python 3",
      "language": "python",
      "name": "python3"
    },
    "language_info": {
      "codemirror_mode": {
        "name": "ipython",
        "version": 3
      },
      "file_extension": ".py",
      "mimetype": "text/x-python",
      "name": "python",
      "nbconvert_exporter": "python",
      "pygments_lexer": "ipython3",
      "version": "3.6.1"
    }
  },
  "nbformat": 4,
  "nbformat_minor": 1
}