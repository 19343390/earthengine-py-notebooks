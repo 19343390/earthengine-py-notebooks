{
  "cells": [
    {
      "cell_type": "markdown",
      "metadata": {},
      "source": [
        "<table class=\"ee-notebook-buttons\" align=\"left\">\n",
        "    <td><a target=\"_blank\"  href=\"https://github.com/giswqs/earthengine-py-notebooks/tree/master/Array/quality_mosaic.ipynb\"><img width=32px src=\"https://www.tensorflow.org/images/GitHub-Mark-32px.png\" /> View source on GitHub</a></td>\n",
        "    <td><a target=\"_blank\"  href=\"https://nbviewer.jupyter.org/github/giswqs/earthengine-py-notebooks/blob/master/Array/quality_mosaic.ipynb\"><img width=26px src=\"https://upload.wikimedia.org/wikipedia/commons/thumb/3/38/Jupyter_logo.svg/883px-Jupyter_logo.svg.png\" />Notebook Viewer</a></td>\n",
        "    <td><a target=\"_blank\"  href=\"https://mybinder.org/v2/gh/giswqs/earthengine-py-notebooks/master?filepath=Array/quality_mosaic.ipynb\"><img width=58px src=\"https://mybinder.org/static/images/logo_social.png\" />Run in binder</a></td>\n",
        "    <td><a target=\"_blank\"  href=\"https://colab.research.google.com/github/giswqs/earthengine-py-notebooks/blob/master/Array/quality_mosaic.ipynb\"><img src=\"https://www.tensorflow.org/images/colab_logo_32px.png\" /> Run in Google Colab</a></td>\n",
        "</table>"
      ]
    },
    {
      "cell_type": "markdown",
      "metadata": {},
      "source": [
        "## Install Earth Engine API\n",
        "Install the [Earth Engine Python API](https://developers.google.com/earth-engine/python_install) and [geehydro](https://github.com/giswqs/geehydro). The **geehydro** Python package builds on the [folium](https://github.com/python-visualization/folium) package and implements several methods for displaying Earth Engine data layers, such as `Map.addLayer()`, `Map.setCenter()`, `Map.centerObject()`, and `Map.setOptions()`.\n",
        "The magic command `%%capture` can be used to hide output from a specific cell."
      ]
    },
    {
      "cell_type": "code",
      "metadata": {},
      "source": [
        "# %%capture\n",
        "# !pip install earthengine-api\n",
        "# !pip install geehydro"
      ],
      "outputs": [],
      "execution_count": null
    },
    {
      "cell_type": "markdown",
      "metadata": {},
      "source": [
        "Import libraries"
      ]
    },
    {
      "cell_type": "code",
      "metadata": {},
      "source": [
        "import ee\n",
        "import folium\n",
        "import geehydro"
      ],
      "outputs": [],
      "execution_count": null
    },
    {
      "cell_type": "markdown",
      "metadata": {},
      "source": [
        "Authenticate and initialize Earth Engine API. You only need to authenticate the Earth Engine API once. Uncomment the line `ee.Authenticate()` \n",
        "if you are running this notebook for this first time or if you are getting an authentication error.  "
      ]
    },
    {
      "cell_type": "code",
      "metadata": {},
      "source": [
        "# ee.Authenticate()\n",
        "ee.Initialize()"
      ],
      "outputs": [],
      "execution_count": null
    },
    {
      "cell_type": "markdown",
      "metadata": {},
      "source": [
        "## Create an interactive map \n",
        "This step creates an interactive map using [folium](https://github.com/python-visualization/folium). The default basemap is the OpenStreetMap. Additional basemaps can be added using the `Map.setOptions()` function. \n",
        "The optional basemaps can be `ROADMAP`, `SATELLITE`, `HYBRID`, `TERRAIN`, or `ESRI`."
      ]
    },
    {
      "cell_type": "code",
      "metadata": {},
      "source": [
        "Map = folium.Map(location=[40, -100], zoom_start=4)\n",
        "Map.setOptions('HYBRID')"
      ],
      "outputs": [],
      "execution_count": null
    },
    {
      "cell_type": "markdown",
      "metadata": {},
      "source": [
        "## Add Earth Engine Python script "
      ]
    },
    {
      "cell_type": "code",
      "metadata": {},
      "source": [
        "# Array-based quality mosaic.\n",
        "\n",
        "# Returns a mosaic built by sorting each stack of pixels by the first band\n",
        "# in descending order, and taking the highest quality pixel.\n",
        "# function qualityMosaic(bands) {\n",
        "def qualityMosaic(bands):\n",
        "  # Convert to an array, and declare names for the axes and indices along the\n",
        "  # band axis.\n",
        "  array = bands.toArray()\n",
        "  imageAxis = 0\n",
        "  bandAxis = 1\n",
        "  qualityIndex = 0\n",
        "  valuesIndex = 1\n",
        "\n",
        "  # Slice the quality and values off the main array, and sort the values by the\n",
        "  # quality in descending order.\n",
        "  quality = array.arraySlice(bandAxis, qualityIndex, qualityIndex + 1)\n",
        "  values = array.arraySlice(bandAxis, valuesIndex)\n",
        "  valuesByQuality = values.arraySort(quality.multiply(-1))\n",
        "\n",
        "  # Get an image where each pixel is the array of band values where the quality\n",
        "  # band is greatest. Note that while the array is 2-D, the first axis is\n",
        "  # length one.\n",
        "  best = valuesByQuality.arraySlice(imageAxis, 0, 1)\n",
        "\n",
        "  # Project the best 2D array down to a single dimension, and convert it back\n",
        "  # to a regular scalar image by naming each position along the axis. Note we\n",
        "  # provide the original band names, but slice off the first band since the\n",
        "  # quality band is not part of the result. Also note to get at the band names,\n",
        "  # we have to do some kind of reduction, but it won't really calculate pixels\n",
        "  # if we only access the band names.\n",
        "  bandNames = bands.min().bandNames().slice(1)\n",
        "  return best.arrayProject([bandAxis]).arrayFlatten([bandNames])\n",
        "# }\n",
        "\n",
        "# Load the l7_l1t collection for the year 2000, and make sure the first band\n",
        "# is our quality measure, in this case the normalized difference values.\n",
        "l7 = ee.ImageCollection('LANDSAT/LE07/C01/T1') \\\n",
        "    .filterDate('2000-01-01', '2001-01-01')\n",
        "withNd = l7.map(lambda image: image.normalizedDifference(['B4', 'B3']).addBands(image))\n",
        "\n",
        "# Build a mosaic using the NDVI of bands 4 and 3, essentially showing the\n",
        "# greenest pixels from the year 2000.\n",
        "greenest = qualityMosaic(withNd)\n",
        "\n",
        "# Select out the color bands to visualize. An interesting artifact of this\n",
        "# approach is that clouds are greener than water. So all the water is white.\n",
        "rgb = greenest.select(['B3', 'B2', 'B1'])\n",
        "\n",
        "Map.addLayer(rgb, {'gain': [1.4, 1.4, 1.1]}, 'Greenest')\n",
        "Map.setCenter(-90.08789, 16.38339, 11)\n",
        "\n"
      ],
      "outputs": [],
      "execution_count": null
    },
    {
      "cell_type": "markdown",
      "metadata": {},
      "source": [
        "## Display Earth Engine data layers "
      ]
    },
    {
      "cell_type": "code",
      "metadata": {},
      "source": [
        "Map.setControlVisibility(layerControl=True, fullscreenControl=True, latLngPopup=True)\n",
        "Map"
      ],
      "outputs": [],
      "execution_count": null
    }
  ],
  "metadata": {
    "anaconda-cloud": {},
    "kernelspec": {
      "display_name": "Python 3",
      "language": "python",
      "name": "python3"
    },
    "language_info": {
      "codemirror_mode": {
        "name": "ipython",
        "version": 3
      },
      "file_extension": ".py",
      "mimetype": "text/x-python",
      "name": "python",
      "nbconvert_exporter": "python",
      "pygments_lexer": "ipython3",
      "version": "3.6.1"
    }
  },
  "nbformat": 4,
  "nbformat_minor": 1
}