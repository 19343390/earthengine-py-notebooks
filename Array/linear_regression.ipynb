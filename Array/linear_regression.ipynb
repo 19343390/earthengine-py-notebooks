{
  "cells": [
    {
      "cell_type": "markdown",
      "metadata": {},
      "source": [
        "<table class=\"ee-notebook-buttons\" align=\"left\">\n",
        "    <td><a target=\"_blank\"  href=\"https://github.com/giswqs/earthengine-py-notebooks/tree/master/Array/linear_regression.ipynb\"><img width=32px src=\"https://www.tensorflow.org/images/GitHub-Mark-32px.png\" /> View source on GitHub</a></td>\n",
        "    <td><a target=\"_blank\"  href=\"https://nbviewer.jupyter.org/github/giswqs/earthengine-py-notebooks/blob/master/Array/linear_regression.ipynb\"><img width=26px src=\"https://upload.wikimedia.org/wikipedia/commons/thumb/3/38/Jupyter_logo.svg/883px-Jupyter_logo.svg.png\" />Notebook Viewer</a></td>\n",
        "    <td><a target=\"_blank\"  href=\"https://mybinder.org/v2/gh/giswqs/earthengine-py-notebooks/master?filepath=Array/linear_regression.ipynb\"><img width=58px src=\"https://mybinder.org/static/images/logo_social.png\" />Run in binder</a></td>\n",
        "    <td><a target=\"_blank\"  href=\"https://colab.research.google.com/github/giswqs/earthengine-py-notebooks/blob/master/Array/linear_regression.ipynb\"><img src=\"https://www.tensorflow.org/images/colab_logo_32px.png\" /> Run in Google Colab</a></td>\n",
        "</table>"
      ]
    },
    {
      "cell_type": "markdown",
      "metadata": {},
      "source": [
        "## Install Earth Engine API\n",
        "Install the [Earth Engine Python API](https://developers.google.com/earth-engine/python_install) and [geehydro](https://github.com/giswqs/geehydro). The **geehydro** Python package builds on the [folium](https://github.com/python-visualization/folium) package and implements several methods for displaying Earth Engine data layers, such as `Map.addLayer()`, `Map.setCenter()`, `Map.centerObject()`, and `Map.setOptions()`.\n",
        "The magic command `%%capture` can be used to hide output from a specific cell."
      ]
    },
    {
      "cell_type": "code",
      "metadata": {},
      "source": [
        "# %%capture\n",
        "# !pip install earthengine-api\n",
        "# !pip install geehydro"
      ],
      "outputs": [],
      "execution_count": null
    },
    {
      "cell_type": "markdown",
      "metadata": {},
      "source": [
        "Import libraries"
      ]
    },
    {
      "cell_type": "code",
      "metadata": {},
      "source": [
        "import ee\n",
        "import folium\n",
        "import geehydro"
      ],
      "outputs": [],
      "execution_count": null
    },
    {
      "cell_type": "markdown",
      "metadata": {},
      "source": [
        "Authenticate and initialize Earth Engine API. You only need to authenticate the Earth Engine API once. Uncomment the line `ee.Authenticate()` \n",
        "if you are running this notebook for this first time or if you are getting an authentication error.  "
      ]
    },
    {
      "cell_type": "code",
      "metadata": {},
      "source": [
        "# ee.Authenticate()\n",
        "ee.Initialize()"
      ],
      "outputs": [],
      "execution_count": null
    },
    {
      "cell_type": "markdown",
      "metadata": {},
      "source": [
        "## Create an interactive map \n",
        "This step creates an interactive map using [folium](https://github.com/python-visualization/folium). The default basemap is the OpenStreetMap. Additional basemaps can be added using the `Map.setOptions()` function. \n",
        "The optional basemaps can be `ROADMAP`, `SATELLITE`, `HYBRID`, `TERRAIN`, or `ESRI`."
      ]
    },
    {
      "cell_type": "code",
      "metadata": {},
      "source": [
        "Map = folium.Map(location=[40, -100], zoom_start=4)\n",
        "Map.setOptions('HYBRID')"
      ],
      "outputs": [],
      "execution_count": null
    },
    {
      "cell_type": "markdown",
      "metadata": {},
      "source": [
        "## Add Earth Engine Python script "
      ]
    },
    {
      "cell_type": "code",
      "metadata": {},
      "source": [
        "# Simple regression of year versus NDVI.\n",
        "\n",
        "# Define the start date and position to get images covering Montezuma Castle,\n",
        "# Arizona, from 2000-2010.\n",
        "start = '2000-01-01'\n",
        "end = '2010-01-01'\n",
        "lng = -111.83533\n",
        "lat = 34.57499\n",
        "region = ee.Geometry.Point(lng, lat)\n",
        "\n",
        "# Filter to Landsat 7 images in the given time and place, filter to a regular\n",
        "# time of year to avoid seasonal affects, and for each image create the bands\n",
        "# we will regress on:\n",
        "# 1. A 1, so the resulting array has a column of ones to capture the offset.\n",
        "# 2. Fractional year past 2000-01-01.\n",
        "# 3. NDVI.\n",
        "\n",
        "def addBand(image):\n",
        "    date = ee.Date(image.get('system:time_start'))\n",
        "    yearOffset = date.difference(ee.Date(start), 'year')\n",
        "    ndvi = image.normalizedDifference(['B4', 'B3'])\n",
        "    return ee.Image(1).addBands(yearOffset).addBands(ndvi).toDouble()\n",
        "\n",
        "\n",
        "images = ee.ImageCollection('LANDSAT/LE07/C01/T1') \\\n",
        "  .filterDate(start, end) \\\n",
        "  .filter(ee.Filter.dayOfYear(160, 240)) \\\n",
        "  .filterBounds(region) \\\n",
        "  .map(addBand) \n",
        "#     date = ee.Date(image.get('system:time_start'))\n",
        "#     yearOffset = date.difference(ee.Date(start), 'year')\n",
        "#     ndvi = image.normalizedDifference(['B4', 'B3'])\n",
        "#     return ee.Image(1).addBands(yearOffset).addBands(ndvi).toDouble()\n",
        "#   })\n",
        "\n",
        "# Convert to an array. Give the axes names for more readable code.\n",
        "array = images.toArray()\n",
        "imageAxis = 0\n",
        "bandAxis = 1\n",
        "\n",
        "# Slice off the year and ndvi, and solve for the coefficients.\n",
        "x = array.arraySlice(bandAxis, 0, 2)\n",
        "y = array.arraySlice(bandAxis, 2)\n",
        "fit = x.matrixSolve(y)\n",
        "\n",
        "# Get the coefficient for the year, effectively the slope of the long-term\n",
        "# NDVI trend.\n",
        "slope = fit.arrayGet([1, 0])\n",
        "\n",
        "Map.setCenter(lng, lat, 12)\n",
        "Map.addLayer(slope, {'min': -0.03, 'max': 0.03}, 'Slope')\n",
        "\n"
      ],
      "outputs": [],
      "execution_count": null
    },
    {
      "cell_type": "markdown",
      "metadata": {},
      "source": [
        "## Display Earth Engine data layers "
      ]
    },
    {
      "cell_type": "code",
      "metadata": {},
      "source": [
        "Map.setControlVisibility(layerControl=True, fullscreenControl=True, latLngPopup=True)\n",
        "Map"
      ],
      "outputs": [],
      "execution_count": null
    }
  ],
  "metadata": {
    "anaconda-cloud": {},
    "kernelspec": {
      "display_name": "Python 3",
      "language": "python",
      "name": "python3"
    },
    "language_info": {
      "codemirror_mode": {
        "name": "ipython",
        "version": 3
      },
      "file_extension": ".py",
      "mimetype": "text/x-python",
      "name": "python",
      "nbconvert_exporter": "python",
      "pygments_lexer": "ipython3",
      "version": "3.6.1"
    }
  },
  "nbformat": 4,
  "nbformat_minor": 1
}