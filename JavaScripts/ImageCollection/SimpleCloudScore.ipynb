{
  "cells": [
    {
      "cell_type": "markdown",
      "metadata": {},
      "source": [
        "<table class=\"ee-notebook-buttons\" align=\"left\">\n",
        "    <td><a target=\"_blank\"  href=\"https://github.com/giswqs/earthengine-py-notebooks/tree/master/JavaScripts/ImageCollection/SimpleCloudScore.ipynb\"><img width=32px src=\"https://www.tensorflow.org/images/GitHub-Mark-32px.png\" /> View source on GitHub</a></td>\n",
        "    <td><a target=\"_blank\"  href=\"https://nbviewer.jupyter.org/github/giswqs/earthengine-py-notebooks/blob/master/JavaScripts/ImageCollection/SimpleCloudScore.ipynb\"><img width=26px src=\"https://upload.wikimedia.org/wikipedia/commons/thumb/3/38/Jupyter_logo.svg/883px-Jupyter_logo.svg.png\" />Notebook Viewer</a></td>\n",
        "    <td><a target=\"_blank\"  href=\"https://mybinder.org/v2/gh/giswqs/earthengine-py-notebooks/master?filepath=JavaScripts/ImageCollection/SimpleCloudScore.ipynb\"><img width=58px src=\"https://mybinder.org/static/images/logo_social.png\" />Run in binder</a></td>\n",
        "    <td><a target=\"_blank\"  href=\"https://colab.research.google.com/github/giswqs/earthengine-py-notebooks/blob/master/JavaScripts/ImageCollection/SimpleCloudScore.ipynb\"><img src=\"https://www.tensorflow.org/images/colab_logo_32px.png\" /> Run in Google Colab</a></td>\n",
        "</table>"
      ]
    },
    {
      "cell_type": "markdown",
      "metadata": {},
      "source": [
        "## Install Earth Engine API\n",
        "Install the [Earth Engine Python API](https://developers.google.com/earth-engine/python_install) and [geehydro](https://github.com/giswqs/geehydro). The **geehydro** Python package builds on the [folium](https://github.com/python-visualization/folium) package and implements several methods for displaying Earth Engine data layers, such as `Map.addLayer()`, `Map.setCenter()`, `Map.centerObject()`, and `Map.setOptions()`.\n",
        "The following script checks if the geehydro package has been installed. If not, it will install geehydro, which automatically install its dependencies, including earthengine-api and folium."
      ]
    },
    {
      "cell_type": "code",
      "metadata": {},
      "source": [
        "import subprocess\n",
        "\n",
        "try:\n",
        "    import geehydro\n",
        "except ImportError:\n",
        "    print('geehydro package not installed. Installing ...')\n",
        "    subprocess.check_call([\"python\", '-m', 'pip', 'install', 'geehydro'])"
      ],
      "outputs": [],
      "execution_count": null
    },
    {
      "cell_type": "markdown",
      "metadata": {},
      "source": [
        "Import libraries"
      ]
    },
    {
      "cell_type": "code",
      "metadata": {},
      "source": [
        "import ee\n",
        "import folium\n",
        "import geehydro"
      ],
      "outputs": [],
      "execution_count": null
    },
    {
      "cell_type": "markdown",
      "metadata": {},
      "source": [
        "Authenticate and initialize Earth Engine API. You only need to authenticate the Earth Engine API once. "
      ]
    },
    {
      "cell_type": "code",
      "metadata": {},
      "source": [
        "try:\n",
        "    ee.Initialize()\n",
        "except Exception as e:\n",
        "    ee.Authenticate()\n",
        "    ee.Initialize()"
      ],
      "outputs": [],
      "execution_count": null
    },
    {
      "cell_type": "markdown",
      "metadata": {},
      "source": [
        "## Create an interactive map \n",
        "This step creates an interactive map using [folium](https://github.com/python-visualization/folium). The default basemap is the OpenStreetMap. Additional basemaps can be added using the `Map.setOptions()` function. \n",
        "The optional basemaps can be `ROADMAP`, `SATELLITE`, `HYBRID`, `TERRAIN`, or `ESRI`."
      ]
    },
    {
      "cell_type": "code",
      "metadata": {},
      "source": [
        "Map = folium.Map(location=[40, -100], zoom_start=4)\n",
        "Map.setOptions('HYBRID')"
      ],
      "outputs": [],
      "execution_count": null
    },
    {
      "cell_type": "markdown",
      "metadata": {},
      "source": [
        "## Add Earth Engine Python script "
      ]
    },
    {
      "cell_type": "code",
      "metadata": {},
      "source": [
        "# SimpleCloudScore, an example of computing a cloud-free composite with L8\n",
        "# by selecting the least-cloudy pixel from the collection.\n",
        "\n",
        "# A mapping from a common name to the sensor-specific bands.\n",
        "LC8_BANDS = ['B2',   'B3',    'B4',  'B5',  'B6',    'B7',    'B10']\n",
        "STD_NAMES = ['blue', 'green', 'red', 'nir', 'swir1', 'swir2', 'temp']\n",
        "\n",
        "# Compute a cloud score.  This expects the input image to have the common\n",
        "# band names: [\"red\", \"blue\", etc], so it can work across sensors.\n",
        "def cloudScore(img):\n",
        "  # A helper to apply an expression and linearly rescale the output.\n",
        "  def rescale(img, exp, thresholds):\n",
        "    return img.expression(exp, {'img': img}) \\\n",
        "        .subtract(thresholds[0]).divide(thresholds[1] - thresholds[0])\n",
        "  \n",
        "\n",
        "  # Compute several indicators of cloudyness and take the minimum of them.\n",
        "  score = ee.Image(1.0)\n",
        "  # Clouds are reasonably bright in the blue band.\n",
        "  score = score.min(rescale(img, 'img.blue', [0.1, 0.3]))\n",
        "\n",
        "  # Clouds are reasonably bright in all visible bands.\n",
        "  score = score.min(rescale(img, 'img.red + img.green + img.blue', [0.2, 0.8]))\n",
        "\n",
        "  # Clouds are reasonably bright in all infrared bands.\n",
        "  score = score.min(\n",
        "      rescale(img, 'img.nir + img.swir1 + img.swir2', [0.3, 0.8]))\n",
        "\n",
        "  # Clouds are reasonably cool in temperature.\n",
        "  score = score.min(rescale(img, 'img.temp', [300, 290]))\n",
        "\n",
        "  # However, clouds are not snow.\n",
        "  ndsi = img.normalizedDifference(['green', 'swir1'])\n",
        "  return score.min(rescale(ndsi, 'img', [0.8, 0.6]))\n",
        "\n",
        "\n",
        "# Filter the TOA collection to a time-range and add the cloudscore band.\n",
        "collection = ee.ImageCollection('LANDSAT/LC08/C01/T1_TOA') \\\n",
        "    .filterDate('2017-05-01', '2017-07-01')\n",
        "\n",
        "def func_wwa(img):\n",
        "      # Invert the cloudscore so 1 is least cloudy, and rename the band.\n",
        "      score = cloudScore(img.select(LC8_BANDS, STD_NAMES))\n",
        "      score = ee.Image(1).subtract(score).select([0], ['cloudscore'])\n",
        "      return img.addBands(score) \\\n",
        "    .map(func_wwa)\n",
        "\n",
        "\n",
        "\n",
        "\n",
        "\n",
        "\n",
        "\n",
        "# Define visualization parameters for a True color image.\n",
        "vizParams = {'bands': ['B4',  'B3',  'B2'], 'max': 0.4, 'gamma': 1.6}\n",
        "Map.setCenter(-120.24487, 37.52280, 8)\n",
        "Map.addLayer(collection.qualityMosaic('cloudscore'), vizParams)\n"
      ],
      "outputs": [],
      "execution_count": null
    },
    {
      "cell_type": "markdown",
      "metadata": {},
      "source": [
        "## Display Earth Engine data layers "
      ]
    },
    {
      "cell_type": "code",
      "metadata": {},
      "source": [
        "Map.setControlVisibility(layerControl=True, fullscreenControl=True, latLngPopup=True)\n",
        "Map"
      ],
      "outputs": [],
      "execution_count": null
    }
  ],
  "metadata": {
    "anaconda-cloud": {},
    "kernelspec": {
      "display_name": "Python 3",
      "language": "python",
      "name": "python3"
    },
    "language_info": {
      "codemirror_mode": {
        "name": "ipython",
        "version": 3
      },
      "file_extension": ".py",
      "mimetype": "text/x-python",
      "name": "python",
      "nbconvert_exporter": "python",
      "pygments_lexer": "ipython3",
      "version": "3.6.1"
    }
  },
  "nbformat": 4,
  "nbformat_minor": 1
}