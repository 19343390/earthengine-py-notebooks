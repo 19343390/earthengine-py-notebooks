{
  "cells": [
    {
      "cell_type": "markdown",
      "metadata": {},
      "source": [
        "<table class=\"ee-notebook-buttons\" align=\"left\">\n",
        "    <td><a target=\"_blank\"  href=\"https://github.com/giswqs/earthengine-py-notebooks/tree/master/JavaScripts/Demos/TerrainVisualization.ipynb\"><img width=32px src=\"https://www.tensorflow.org/images/GitHub-Mark-32px.png\" /> View source on GitHub</a></td>\n",
        "    <td><a target=\"_blank\"  href=\"https://nbviewer.jupyter.org/github/giswqs/earthengine-py-notebooks/blob/master/JavaScripts/Demos/TerrainVisualization.ipynb\"><img width=26px src=\"https://upload.wikimedia.org/wikipedia/commons/thumb/3/38/Jupyter_logo.svg/883px-Jupyter_logo.svg.png\" />Notebook Viewer</a></td>\n",
        "    <td><a target=\"_blank\"  href=\"https://mybinder.org/v2/gh/giswqs/earthengine-py-notebooks/master?filepath=JavaScripts/Demos/TerrainVisualization.ipynb\"><img width=58px src=\"https://mybinder.org/static/images/logo_social.png\" />Run in binder</a></td>\n",
        "    <td><a target=\"_blank\"  href=\"https://colab.research.google.com/github/giswqs/earthengine-py-notebooks/blob/master/JavaScripts/Demos/TerrainVisualization.ipynb\"><img src=\"https://www.tensorflow.org/images/colab_logo_32px.png\" /> Run in Google Colab</a></td>\n",
        "</table>"
      ]
    },
    {
      "cell_type": "markdown",
      "metadata": {},
      "source": [
        "## Install Earth Engine API\n",
        "Install the [Earth Engine Python API](https://developers.google.com/earth-engine/python_install) and [geehydro](https://github.com/giswqs/geehydro). The **geehydro** Python package builds on the [folium](https://github.com/python-visualization/folium) package and implements several methods for displaying Earth Engine data layers, such as `Map.addLayer()`, `Map.setCenter()`, `Map.centerObject()`, and `Map.setOptions()`.\n",
        "The following script checks if the geehydro package has been installed. If not, it will install geehydro, which automatically install its dependencies, including earthengine-api and folium."
      ]
    },
    {
      "cell_type": "code",
      "metadata": {},
      "source": [
        "import subprocess\n",
        "\n",
        "try:\n",
        "    import geehydro\n",
        "except ImportError:\n",
        "    print('geehydro package not installed. Installing ...')\n",
        "    subprocess.check_call([\"python\", '-m', 'pip', 'install', 'geehydro'])"
      ],
      "outputs": [],
      "execution_count": null
    },
    {
      "cell_type": "markdown",
      "metadata": {},
      "source": [
        "Import libraries"
      ]
    },
    {
      "cell_type": "code",
      "metadata": {},
      "source": [
        "import ee\n",
        "import folium\n",
        "import geehydro"
      ],
      "outputs": [],
      "execution_count": null
    },
    {
      "cell_type": "markdown",
      "metadata": {},
      "source": [
        "Authenticate and initialize Earth Engine API. You only need to authenticate the Earth Engine API once. "
      ]
    },
    {
      "cell_type": "code",
      "metadata": {},
      "source": [
        "try:\n",
        "    ee.Initialize()\n",
        "except Exception as e:\n",
        "    ee.Authenticate()\n",
        "    ee.Initialize()"
      ],
      "outputs": [],
      "execution_count": null
    },
    {
      "cell_type": "markdown",
      "metadata": {},
      "source": [
        "## Create an interactive map \n",
        "This step creates an interactive map using [folium](https://github.com/python-visualization/folium). The default basemap is the OpenStreetMap. Additional basemaps can be added using the `Map.setOptions()` function. \n",
        "The optional basemaps can be `ROADMAP`, `SATELLITE`, `HYBRID`, `TERRAIN`, or `ESRI`."
      ]
    },
    {
      "cell_type": "code",
      "metadata": {},
      "source": [
        "Map = folium.Map(location=[40, -100], zoom_start=4)\n",
        "Map.setOptions('HYBRID')"
      ],
      "outputs": [],
      "execution_count": null
    },
    {
      "cell_type": "markdown",
      "metadata": {},
      "source": [
        "## Add Earth Engine Python script "
      ]
    },
    {
      "cell_type": "code",
      "metadata": {},
      "source": [
        "# Use an elevation dataset and terrain functions to create\n",
        "# a custom visualization of topography.\n",
        "\n",
        "# Load a global elevation image.\n",
        "elev = ee.Image('USGS/GMTED2010')\n",
        "\n",
        "# Zoom to an area of interest.\n",
        "Map.setCenter(-121.069, 50.709, 6)\n",
        "\n",
        "# Add the elevation to the map.\n",
        "Map.addLayer(elev, {}, 'elev')\n",
        "\n",
        "# Use the terrain algorithms to compute a hillshade with 8-bit values.\n",
        "shade = ee.Terrain.hillshade(elev)\n",
        "Map.addLayer(shade, {}, 'hillshade', False)\n",
        "\n",
        "# Create a \"sea\" variable to be used for cartographic purposes\n",
        "sea = elev.lte(0)\n",
        "Map.addLayer(sea.mask(sea), {'palette':'000022'}, 'sea', False)\n",
        "\n",
        "# Create a custom elevation palette from hex strings.\n",
        "elevationPalette = ['006600', '002200', 'fff700', 'ab7634', 'c4d0ff', 'ffffff']\n",
        "# Use these visualization parameters, customized by location.\n",
        "visParams = {'min': 1, 'max': 3000, 'palette': elevationPalette}\n",
        "\n",
        "# Create a mosaic of the sea and the elevation data\n",
        "visualized = ee.ImageCollection([\n",
        "  # Mask the elevation to get only land\n",
        "  elev.mask(sea.Not()).visualize(visParams),\n",
        "  # Use the sea mask directly to display sea.\n",
        "  sea.mask(sea).visualize(**{'palette':'000022'})\n",
        "]).mosaic()\n",
        "\n",
        "# Note that the visualization image doesn't require visualization parameters.\n",
        "Map.addLayer(visualized, {}, 'elev palette', False)\n",
        "\n",
        "# Convert the visualized elevation to HSV, first converting to [0, 1] data.\n",
        "hsv = visualized.divide(255).rgbToHsv()\n",
        "# Select only the hue and saturation bands.\n",
        "hs = hsv.select(0, 1)\n",
        "# Convert the hillshade to [0, 1] data, as expected by the HSV algorithm.\n",
        "v = shade.divide(255)\n",
        "# Create a visualization image by converting back to RGB from HSV.\n",
        "# Note the cast to byte in order to export the image correctly.\n",
        "rgb = hs.addBands(v).hsvToRgb().multiply(255).byte()\n",
        "Map.addLayer(rgb, {}, 'styled')\n",
        "\n"
      ],
      "outputs": [],
      "execution_count": null
    },
    {
      "cell_type": "markdown",
      "metadata": {},
      "source": [
        "## Display Earth Engine data layers "
      ]
    },
    {
      "cell_type": "code",
      "metadata": {},
      "source": [
        "Map.setControlVisibility(layerControl=True, fullscreenControl=True, latLngPopup=True)\n",
        "Map"
      ],
      "outputs": [],
      "execution_count": null
    }
  ],
  "metadata": {
    "anaconda-cloud": {},
    "kernelspec": {
      "display_name": "Python 3",
      "language": "python",
      "name": "python3"
    },
    "language_info": {
      "codemirror_mode": {
        "name": "ipython",
        "version": 3
      },
      "file_extension": ".py",
      "mimetype": "text/x-python",
      "name": "python",
      "nbconvert_exporter": "python",
      "pygments_lexer": "ipython3",
      "version": "3.6.1"
    }
  },
  "nbformat": 4,
  "nbformat_minor": 1
}