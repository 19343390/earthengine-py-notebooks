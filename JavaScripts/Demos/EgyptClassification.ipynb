{
  "cells": [
    {
      "cell_type": "markdown",
      "metadata": {},
      "source": [
        "<table class=\"ee-notebook-buttons\" align=\"left\">\n",
        "    <td><a target=\"_blank\"  href=\"https://github.com/giswqs/earthengine-py-notebooks/tree/master/JavaScripts/Demos/EgyptClassification.ipynb\"><img width=32px src=\"https://www.tensorflow.org/images/GitHub-Mark-32px.png\" /> View source on GitHub</a></td>\n",
        "    <td><a target=\"_blank\"  href=\"https://nbviewer.jupyter.org/github/giswqs/earthengine-py-notebooks/blob/master/JavaScripts/Demos/EgyptClassification.ipynb\"><img width=26px src=\"https://upload.wikimedia.org/wikipedia/commons/thumb/3/38/Jupyter_logo.svg/883px-Jupyter_logo.svg.png\" />Notebook Viewer</a></td>\n",
        "    <td><a target=\"_blank\"  href=\"https://mybinder.org/v2/gh/giswqs/earthengine-py-notebooks/master?filepath=JavaScripts/Demos/EgyptClassification.ipynb\"><img width=58px src=\"https://mybinder.org/static/images/logo_social.png\" />Run in binder</a></td>\n",
        "    <td><a target=\"_blank\"  href=\"https://colab.research.google.com/github/giswqs/earthengine-py-notebooks/blob/master/JavaScripts/Demos/EgyptClassification.ipynb\"><img src=\"https://www.tensorflow.org/images/colab_logo_32px.png\" /> Run in Google Colab</a></td>\n",
        "</table>"
      ]
    },
    {
      "cell_type": "markdown",
      "metadata": {},
      "source": [
        "## Install Earth Engine API\n",
        "Install the [Earth Engine Python API](https://developers.google.com/earth-engine/python_install) and [geehydro](https://github.com/giswqs/geehydro). The **geehydro** Python package builds on the [folium](https://github.com/python-visualization/folium) package and implements several methods for displaying Earth Engine data layers, such as `Map.addLayer()`, `Map.setCenter()`, `Map.centerObject()`, and `Map.setOptions()`.\n",
        "The following script checks if the geehydro package has been installed. If not, it will install geehydro, which automatically install its dependencies, including earthengine-api and folium."
      ]
    },
    {
      "cell_type": "code",
      "metadata": {},
      "source": [
        "import subprocess\n",
        "\n",
        "try:\n",
        "    import geehydro\n",
        "except ImportError:\n",
        "    print('geehydro package not installed. Installing ...')\n",
        "    subprocess.check_call([\"python\", '-m', 'pip', 'install', 'geehydro'])"
      ],
      "outputs": [],
      "execution_count": null
    },
    {
      "cell_type": "markdown",
      "metadata": {},
      "source": [
        "Import libraries"
      ]
    },
    {
      "cell_type": "code",
      "metadata": {},
      "source": [
        "import ee\n",
        "import folium\n",
        "import geehydro"
      ],
      "outputs": [],
      "execution_count": null
    },
    {
      "cell_type": "markdown",
      "metadata": {},
      "source": [
        "Authenticate and initialize Earth Engine API. You only need to authenticate the Earth Engine API once. "
      ]
    },
    {
      "cell_type": "code",
      "metadata": {},
      "source": [
        "try:\n",
        "    ee.Initialize()\n",
        "except Exception as e:\n",
        "    ee.Authenticate()\n",
        "    ee.Initialize()"
      ],
      "outputs": [],
      "execution_count": null
    },
    {
      "cell_type": "markdown",
      "metadata": {},
      "source": [
        "## Create an interactive map \n",
        "This step creates an interactive map using [folium](https://github.com/python-visualization/folium). The default basemap is the OpenStreetMap. Additional basemaps can be added using the `Map.setOptions()` function. \n",
        "The optional basemaps can be `ROADMAP`, `SATELLITE`, `HYBRID`, `TERRAIN`, or `ESRI`."
      ]
    },
    {
      "cell_type": "code",
      "metadata": {},
      "source": [
        "Map = folium.Map(location=[40, -100], zoom_start=4)\n",
        "Map.setOptions('HYBRID')"
      ],
      "outputs": [],
      "execution_count": null
    },
    {
      "cell_type": "markdown",
      "metadata": {},
      "source": [
        "## Add Earth Engine Python script "
      ]
    },
    {
      "cell_type": "code",
      "metadata": {},
      "source": [
        "# Upsample MODIS landcover classification (250m) to Landsat\n",
        "# resolution (30m) using a supervised classifier.\n",
        "\n",
        "geometry = ee.Geometry.Polygon(\n",
        "        [[[29.972731783841393, 31.609824974226175],\n",
        "          [29.972731783841393, 30.110383818311096],\n",
        "          [32.56550522134139, 30.110383818311096],\n",
        "          [32.56550522134139, 31.609824974226175]]], {}, False)\n",
        "\n",
        "# Use the MCD12 land-cover as training data.\n",
        "collection = ee.ImageCollection('MODIS/006/MCD12Q1')\n",
        "# See the collection docs to get details on classification system.\n",
        "modisLandcover = collection \\\n",
        "    .filterDate('2001-01-01', '2001-12-31') \\\n",
        "    .first() \\\n",
        "    .select('LC_Type1') \\\n",
        "    .subtract(1)\n",
        "\n",
        "# A pallete to use for visualizing landcover images.  You can get this\n",
        "# from the properties of the collection.\n",
        "landcoverPalette = '05450a,086a10,54a708,78d203,009900,c6b044,dcd159,' + \\\n",
        "    'dade48,fbff13,b6ff05,27ff87,c24f44,a5a5a5,ff6d4c,69fff8,f9ffa4,1c0dff'\n",
        "# A set of visualization parameters using the landcover palette.\n",
        "landcoverVisualization = {'palette': landcoverPalette, 'min': 0, 'max': 16, 'format': 'png'}\n",
        "# Center over our region of interest.\n",
        "Map.centerObject(geometry, 11)\n",
        "# Draw the MODIS landcover image.\n",
        "Map.addLayer(modisLandcover, landcoverVisualization, 'MODIS landcover')\n",
        "\n",
        "# Load and filter Landsat data.\n",
        "l7 = ee.ImageCollection('LANDSAT/LE07/C01/T1') \\\n",
        "    .filterBounds(geometry) \\\n",
        "    .filterDate('2000-01-01', '2001-01-01')\n",
        "\n",
        "# Draw the Landsat composite, visualizing True color bands.\n",
        "landsatComposite = ee.Algorithms.Landsat.simpleComposite({\n",
        "  'collection': l7,\n",
        "  'asFloat': True\n",
        "})\n",
        "Map.addLayer(landsatComposite, {'min': 0, 'max': 0.3, 'bands': ['B3','B2','B1']}, 'Landsat composite')\n",
        "\n",
        "# Make a training dataset by sampling the stacked images.\n",
        "training = modisLandcover.addBands(landsatComposite).sample({\n",
        "  'region': geometry,\n",
        "  'scale': 30,\n",
        "  'numPixels': 1000\n",
        "})\n",
        "\n",
        "# Train a classifier using the training data.\n",
        "classifier = ee.Classifier.smileCart().train({\n",
        "  'features': training,\n",
        "  'classProperty': 'LC_Type1',\n",
        "})\n",
        "\n",
        "# Apply the classifier to the original composite.\n",
        "upsampled = landsatComposite.classify(classifier)\n",
        "\n",
        "# Draw the upsampled landcover image.\n",
        "Map.addLayer(upsampled, landcoverVisualization, 'Upsampled landcover')\n",
        "\n",
        "# Show the training area.\n",
        "Map.addLayer(geometry, {}, 'Training region', False)\n"
      ],
      "outputs": [],
      "execution_count": null
    },
    {
      "cell_type": "markdown",
      "metadata": {},
      "source": [
        "## Display Earth Engine data layers "
      ]
    },
    {
      "cell_type": "code",
      "metadata": {},
      "source": [
        "Map.setControlVisibility(layerControl=True, fullscreenControl=True, latLngPopup=True)\n",
        "Map"
      ],
      "outputs": [],
      "execution_count": null
    }
  ],
  "metadata": {
    "anaconda-cloud": {},
    "kernelspec": {
      "display_name": "Python 3",
      "language": "python",
      "name": "python3"
    },
    "language_info": {
      "codemirror_mode": {
        "name": "ipython",
        "version": 3
      },
      "file_extension": ".py",
      "mimetype": "text/x-python",
      "name": "python",
      "nbconvert_exporter": "python",
      "pygments_lexer": "ipython3",
      "version": "3.6.1"
    }
  },
  "nbformat": 4,
  "nbformat_minor": 1
}