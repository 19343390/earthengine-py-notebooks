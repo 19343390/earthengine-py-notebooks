{
  "cells": [
    {
      "cell_type": "markdown",
      "metadata": {},
      "source": [
        "<table class=\"ee-notebook-buttons\" align=\"left\">\n",
        "    <td><a target=\"_blank\"  href=\"https://github.com/giswqs/earthengine-py-notebooks/tree/master/Visualization/styled_layer_descriptors.ipynb\"><img width=32px src=\"https://www.tensorflow.org/images/GitHub-Mark-32px.png\" /> View source on GitHub</a></td>\n",
        "    <td><a target=\"_blank\"  href=\"https://nbviewer.jupyter.org/github/giswqs/earthengine-py-notebooks/blob/master/Visualization/styled_layer_descriptors.ipynb\"><img width=26px src=\"https://upload.wikimedia.org/wikipedia/commons/thumb/3/38/Jupyter_logo.svg/883px-Jupyter_logo.svg.png\" />Notebook Viewer</a></td>\n",
        "    <td><a target=\"_blank\"  href=\"https://mybinder.org/v2/gh/giswqs/earthengine-py-notebooks/master?filepath=Visualization/styled_layer_descriptors.ipynb\"><img width=58px src=\"https://mybinder.org/static/images/logo_social.png\" />Run in binder</a></td>\n",
        "    <td><a target=\"_blank\"  href=\"https://colab.research.google.com/github/giswqs/earthengine-py-notebooks/blob/master/Visualization/styled_layer_descriptors.ipynb\"><img src=\"https://www.tensorflow.org/images/colab_logo_32px.png\" /> Run in Google Colab</a></td>\n",
        "</table>"
      ]
    },
    {
      "cell_type": "markdown",
      "metadata": {},
      "source": [
        "## Install Earth Engine API\n",
        "Install the [Earth Engine Python API](https://developers.google.com/earth-engine/python_install) and [geehydro](https://github.com/giswqs/geehydro). The **geehydro** Python package builds on the [folium](https://github.com/python-visualization/folium) package and implements several methods for displaying Earth Engine data layers, such as `Map.addLayer()`, `Map.setCenter()`, `Map.centerObject()`, and `Map.setOptions()`.\n",
        "The magic command `%%capture` can be used to hide output from a specific cell."
      ]
    },
    {
      "cell_type": "code",
      "metadata": {},
      "source": [
        "# %%capture\n",
        "# !pip install earthengine-api\n",
        "# !pip install geehydro"
      ],
      "outputs": [],
      "execution_count": null
    },
    {
      "cell_type": "markdown",
      "metadata": {},
      "source": [
        "Import libraries"
      ]
    },
    {
      "cell_type": "code",
      "metadata": {},
      "source": [
        "import ee\n",
        "import folium\n",
        "import geehydro"
      ],
      "outputs": [],
      "execution_count": null
    },
    {
      "cell_type": "markdown",
      "metadata": {},
      "source": [
        "Authenticate and initialize Earth Engine API. You only need to authenticate the Earth Engine API once. Uncomment the line `ee.Authenticate()` \n",
        "if you are running this notebook for this first time or if you are getting an authentication error.  "
      ]
    },
    {
      "cell_type": "code",
      "metadata": {},
      "source": [
        "# ee.Authenticate()\n",
        "ee.Initialize()"
      ],
      "outputs": [],
      "execution_count": null
    },
    {
      "cell_type": "markdown",
      "metadata": {},
      "source": [
        "## Create an interactive map \n",
        "This step creates an interactive map using [folium](https://github.com/python-visualization/folium). The default basemap is the OpenStreetMap. Additional basemaps can be added using the `Map.setOptions()` function. \n",
        "The optional basemaps can be `ROADMAP`, `SATELLITE`, `HYBRID`, `TERRAIN`, or `ESRI`."
      ]
    },
    {
      "cell_type": "code",
      "metadata": {},
      "source": [
        "Map = folium.Map(location=[40, -100], zoom_start=4)\n",
        "Map.setOptions('HYBRID')"
      ],
      "outputs": [],
      "execution_count": null
    },
    {
      "cell_type": "markdown",
      "metadata": {},
      "source": [
        "## Add Earth Engine Python script "
      ]
    },
    {
      "cell_type": "code",
      "metadata": {},
      "source": [
        "cover = ee.Image('MODIS/051/MCD12Q1/2012_01_01').select('Land_Cover_Type_1')\n",
        "\n",
        "# Define an SLD style of discrete intervals to apply to the image.\n",
        "sld_intervals = \\\n",
        "'<RasterSymbolizer>' + \\\n",
        " ' <ColorMap  type=\"intervals\" extended=\"false\" >' + \\\n",
        "    '<ColorMapEntry color=\"#aec3d4\" quantity=\"0\" label=\"Water\"/>' + \\\n",
        "    '<ColorMapEntry color=\"#152106\" quantity=\"1\" label=\"Evergreen Needleleaf Forest\"/>' + \\\n",
        "    '<ColorMapEntry color=\"#225129\" quantity=\"2\" label=\"Evergreen Broadleaf Forest\"/>' + \\\n",
        "    '<ColorMapEntry color=\"#369b47\" quantity=\"3\" label=\"Deciduous Needleleaf Forest\"/>' + \\\n",
        "    '<ColorMapEntry color=\"#30eb5b\" quantity=\"4\" label=\"Deciduous Broadleaf Forest\"/>' + \\\n",
        "    '<ColorMapEntry color=\"#387242\" quantity=\"5\" label=\"Mixed Deciduous Forest\"/>' + \\\n",
        "    '<ColorMapEntry color=\"#6a2325\" quantity=\"6\" label=\"Closed Shrubland\"/>' + \\\n",
        "    '<ColorMapEntry color=\"#c3aa69\" quantity=\"7\" label=\"Open Shrubland\"/>' + \\\n",
        "    '<ColorMapEntry color=\"#b76031\" quantity=\"8\" label=\"Woody Savanna\"/>' + \\\n",
        "    '<ColorMapEntry color=\"#d9903d\" quantity=\"9\" label=\"Savanna\"/>' + \\\n",
        "    '<ColorMapEntry color=\"#91af40\" quantity=\"10\" label=\"Grassland\"/>' + \\\n",
        "    '<ColorMapEntry color=\"#111149\" quantity=\"11\" label=\"Permanent Wetland\"/>' + \\\n",
        "    '<ColorMapEntry color=\"#cdb33b\" quantity=\"12\" label=\"Cropland\"/>' + \\\n",
        "    '<ColorMapEntry color=\"#cc0013\" quantity=\"13\" label=\"Urban\"/>' + \\\n",
        "    '<ColorMapEntry color=\"#33280d\" quantity=\"14\" label=\"Crop, Natural Veg. Mosaic\"/>' + \\\n",
        "    '<ColorMapEntry color=\"#d7cdcc\" quantity=\"15\" label=\"Permanent Snow, Ice\"/>' + \\\n",
        "    '<ColorMapEntry color=\"#f7e084\" quantity=\"16\" label=\"Barren, Desert\"/>' + \\\n",
        "    '<ColorMapEntry color=\"#6f6f6f\" quantity=\"17\" label=\"Tundra\"/>' + \\\n",
        "  '</ColorMap>' + \\\n",
        "'</RasterSymbolizer>'\n",
        "Map.addLayer(cover.sldStyle(sld_intervals), {}, 'IGBP classification styled')"
      ],
      "outputs": [],
      "execution_count": null
    },
    {
      "cell_type": "markdown",
      "metadata": {},
      "source": [
        "## Display Earth Engine data layers "
      ]
    },
    {
      "cell_type": "code",
      "metadata": {},
      "source": [
        "Map.setControlVisibility(layerControl=True, fullscreenControl=True, latLngPopup=True)\n",
        "Map"
      ],
      "outputs": [],
      "execution_count": null
    }
  ],
  "metadata": {
    "anaconda-cloud": {},
    "kernelspec": {
      "display_name": "Python 3",
      "language": "python",
      "name": "python3"
    },
    "language_info": {
      "codemirror_mode": {
        "name": "ipython",
        "version": 3
      },
      "file_extension": ".py",
      "mimetype": "text/x-python",
      "name": "python",
      "nbconvert_exporter": "python",
      "pygments_lexer": "ipython3",
      "version": "3.6.1"
    }
  },
  "nbformat": 4,
  "nbformat_minor": 1
}