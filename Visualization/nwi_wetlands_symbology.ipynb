{
  "cells": [
    {
      "cell_type": "markdown",
      "metadata": {},
      "source": [
        "<table class=\"ee-notebook-buttons\" align=\"left\">\n",
        "    <td><a target=\"_blank\"  href=\"https://github.com/giswqs/earthengine-py-notebooks/tree/master/Visualization/nwi_wetlands_symbology.ipynb\"><img width=32px src=\"https://www.tensorflow.org/images/GitHub-Mark-32px.png\" /> View source on GitHub</a></td>\n",
        "    <td><a target=\"_blank\"  href=\"https://nbviewer.jupyter.org/github/giswqs/earthengine-py-notebooks/blob/master/Visualization/nwi_wetlands_symbology.ipynb\"><img width=26px src=\"https://upload.wikimedia.org/wikipedia/commons/thumb/3/38/Jupyter_logo.svg/883px-Jupyter_logo.svg.png\" />Notebook Viewer</a></td>\n",
        "    <td><a target=\"_blank\"  href=\"https://mybinder.org/v2/gh/giswqs/earthengine-py-notebooks/master?filepath=Visualization/nwi_wetlands_symbology.ipynb\"><img width=58px src=\"https://mybinder.org/static/images/logo_social.png\" />Run in binder</a></td>\n",
        "    <td><a target=\"_blank\"  href=\"https://colab.research.google.com/github/giswqs/earthengine-py-notebooks/blob/master/Visualization/nwi_wetlands_symbology.ipynb\"><img src=\"https://www.tensorflow.org/images/colab_logo_32px.png\" /> Run in Google Colab</a></td>\n",
        "</table>"
      ]
    },
    {
      "cell_type": "markdown",
      "metadata": {},
      "source": [
        "## Install Earth Engine API\n",
        "Install the [Earth Engine Python API](https://developers.google.com/earth-engine/python_install) and [geehydro](https://github.com/giswqs/geehydro). The **geehydro** Python package builds on the [folium](https://github.com/python-visualization/folium) package and implements several methods for displaying Earth Engine data layers, such as `Map.addLayer()`, `Map.setCenter()`, `Map.centerObject()`, and `Map.setOptions()`.\n",
        "The magic command `%%capture` can be used to hide output from a specific cell."
      ]
    },
    {
      "cell_type": "code",
      "metadata": {},
      "source": [
        "# %%capture\n",
        "# !pip install earthengine-api\n",
        "# !pip install geehydro"
      ],
      "outputs": [],
      "execution_count": null
    },
    {
      "cell_type": "markdown",
      "metadata": {},
      "source": [
        "Import libraries"
      ]
    },
    {
      "cell_type": "code",
      "metadata": {},
      "source": [
        "import ee\n",
        "import folium\n",
        "import geehydro"
      ],
      "outputs": [],
      "execution_count": null
    },
    {
      "cell_type": "markdown",
      "metadata": {},
      "source": [
        "Authenticate and initialize Earth Engine API. You only need to authenticate the Earth Engine API once. Uncomment the line `ee.Authenticate()` \n",
        "if you are running this notebook for this first time or if you are getting an authentication error.  "
      ]
    },
    {
      "cell_type": "code",
      "metadata": {},
      "source": [
        "# ee.Authenticate()\n",
        "ee.Initialize()"
      ],
      "outputs": [],
      "execution_count": null
    },
    {
      "cell_type": "markdown",
      "metadata": {},
      "source": [
        "## Create an interactive map \n",
        "This step creates an interactive map using [folium](https://github.com/python-visualization/folium). The default basemap is the OpenStreetMap. Additional basemaps can be added using the `Map.setOptions()` function. \n",
        "The optional basemaps can be `ROADMAP`, `SATELLITE`, `HYBRID`, `TERRAIN`, or `ESRI`."
      ]
    },
    {
      "cell_type": "code",
      "metadata": {},
      "source": [
        "Map = folium.Map(location=[40, -100], zoom_start=4)\n",
        "Map.setOptions('HYBRID')"
      ],
      "outputs": [],
      "execution_count": null
    },
    {
      "cell_type": "markdown",
      "metadata": {},
      "source": [
        "## Add Earth Engine Python script "
      ]
    },
    {
      "cell_type": "code",
      "metadata": {},
      "source": [
        "# NWI legend: https://www.fws.gov/wetlands/Data/Mapper-Wetlands-Legend.html\n",
        "def nwi_add_color(fc):\n",
        "    emergent = ee.FeatureCollection(\n",
        "        fc.filter(ee.Filter.eq('WETLAND_TY', 'Freshwater Emergent Wetland')))\n",
        "    emergent = emergent.map(lambda f: f.set(\n",
        "        'R', 127).set('G', 195).set('B', 28))\n",
        "    # print(emergent.first())\n",
        "\n",
        "    forested = fc.filter(ee.Filter.eq(\n",
        "        'WETLAND_TY', 'Freshwater Forested/Shrub Wetland'))\n",
        "    forested = forested.map(lambda f: f.set('R', 0).set('G', 136).set('B', 55))\n",
        "\n",
        "    pond = fc.filter(ee.Filter.eq('WETLAND_TY', 'Freshwater Pond'))\n",
        "    pond = pond.map(lambda f: f.set('R', 104).set('G', 140).set('B', 192))\n",
        "\n",
        "    lake = fc.filter(ee.Filter.eq('WETLAND_TY', 'Lake'))\n",
        "    lake = lake.map(lambda f: f.set('R', 19).set('G', 0).set('B', 124))\n",
        "\n",
        "    riverine = fc.filter(ee.Filter.eq('WETLAND_TY', 'Riverine'))\n",
        "    riverine = riverine.map(lambda f: f.set(\n",
        "        'R', 1).set('G', 144).set('B', 191))\n",
        "\n",
        "    fc = ee.FeatureCollection(emergent.merge(\n",
        "        forested).merge(pond).merge(lake).merge(riverine))\n",
        "\n",
        "    base = ee.Image(0).mask(0).toInt8()\n",
        "    img = base.paint(fc, 'R') \\\n",
        "        .addBands(base.paint(fc, 'G')\n",
        "                  .addBands(base.paint(fc, 'B')))\n",
        "    return img\n",
        "\n",
        "\n",
        "fromFT = ee.FeatureCollection(\"users/wqs/Pipestem/Pipestem_HUC10\")\n",
        "Map.addLayer(ee.Image().paint(fromFT, 0, 2), {}, 'Watershed')\n",
        "huc8_id = '10160002'\n",
        "nwi_asset_path = 'users/wqs/NWI-HU8/HU8_' + huc8_id + '_Wetlands'    # NWI wetlands for the clicked watershed\n",
        "clicked_nwi_huc = ee.FeatureCollection(nwi_asset_path)\n",
        "nwi_color = nwi_add_color(clicked_nwi_huc)\n",
        "Map.centerObject(clicked_nwi_huc, 10)\n",
        "Map.addLayer(nwi_color, {'gamma': 0.3, 'opacity': 0.7}, 'NWI Wetlands Color')\n"
      ],
      "outputs": [],
      "execution_count": null
    },
    {
      "cell_type": "markdown",
      "metadata": {},
      "source": [
        "## Display Earth Engine data layers "
      ]
    },
    {
      "cell_type": "code",
      "metadata": {},
      "source": [
        "Map.setControlVisibility(layerControl=True, fullscreenControl=True, latLngPopup=True)\n",
        "Map"
      ],
      "outputs": [],
      "execution_count": null
    }
  ],
  "metadata": {
    "anaconda-cloud": {},
    "kernelspec": {
      "display_name": "Python 3",
      "language": "python",
      "name": "python3"
    },
    "language_info": {
      "codemirror_mode": {
        "name": "ipython",
        "version": 3
      },
      "file_extension": ".py",
      "mimetype": "text/x-python",
      "name": "python",
      "nbconvert_exporter": "python",
      "pygments_lexer": "ipython3",
      "version": "3.6.1"
    }
  },
  "nbformat": 4,
  "nbformat_minor": 1
}