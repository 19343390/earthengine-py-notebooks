{
  "cells": [
    {
      "cell_type": "markdown",
      "metadata": {},
      "source": [
        "<table class=\"ee-notebook-buttons\" align=\"left\">\n",
        "    <td><a target=\"_blank\"  href=\"https://github.com/giswqs/earthengine-py-notebooks/tree/master/Image/reclassify.ipynb\"><img width=32px src=\"https://www.tensorflow.org/images/GitHub-Mark-32px.png\" /> View source on GitHub</a></td>\n",
        "    <td><a target=\"_blank\"  href=\"https://nbviewer.jupyter.org/github/giswqs/earthengine-py-notebooks/blob/master/Image/reclassify.ipynb\"><img width=26px src=\"https://upload.wikimedia.org/wikipedia/commons/thumb/3/38/Jupyter_logo.svg/883px-Jupyter_logo.svg.png\" />Notebook Viewer</a></td>\n",
        "    <td><a target=\"_blank\"  href=\"https://mybinder.org/v2/gh/giswqs/earthengine-py-notebooks/master?filepath=Image/reclassify.ipynb\"><img width=58px src=\"https://mybinder.org/static/images/logo_social.png\" />Run in binder</a></td>\n",
        "    <td><a target=\"_blank\"  href=\"https://colab.research.google.com/github/giswqs/earthengine-py-notebooks/blob/master/Image/reclassify.ipynb\"><img src=\"https://www.tensorflow.org/images/colab_logo_32px.png\" /> Run in Google Colab</a></td>\n",
        "</table>"
      ]
    },
    {
      "cell_type": "markdown",
      "metadata": {},
      "source": [
        "## Install Earth Engine API\n",
        "Install the [Earth Engine Python API](https://developers.google.com/earth-engine/python_install) and [geehydro](https://github.com/giswqs/geehydro). The **geehydro** Python package builds on the [folium](https://github.com/python-visualization/folium) package and implements several methods for displaying Earth Engine data layers, such as `Map.addLayer()`, `Map.setCenter()`, `Map.centerObject()`, and `Map.setOptions()`.\n",
        "The magic command `%%capture` can be used to hide output from a specific cell."
      ]
    },
    {
      "cell_type": "code",
      "metadata": {},
      "source": [
        "# %%capture\n",
        "# !pip install earthengine-api\n",
        "# !pip install geehydro"
      ],
      "outputs": [],
      "execution_count": null
    },
    {
      "cell_type": "markdown",
      "metadata": {},
      "source": [
        "Import libraries"
      ]
    },
    {
      "cell_type": "code",
      "metadata": {},
      "source": [
        "import ee\n",
        "import folium\n",
        "import geehydro"
      ],
      "outputs": [],
      "execution_count": null
    },
    {
      "cell_type": "markdown",
      "metadata": {},
      "source": [
        "Authenticate and initialize Earth Engine API. You only need to authenticate the Earth Engine API once. Uncomment the line `ee.Authenticate()` \n",
        "if you are running this notebook for this first time or if you are getting an authentication error.  "
      ]
    },
    {
      "cell_type": "code",
      "metadata": {},
      "source": [
        "# ee.Authenticate()\n",
        "ee.Initialize()"
      ],
      "outputs": [],
      "execution_count": null
    },
    {
      "cell_type": "markdown",
      "metadata": {},
      "source": [
        "## Create an interactive map \n",
        "This step creates an interactive map using [folium](https://github.com/python-visualization/folium). The default basemap is the OpenStreetMap. Additional basemaps can be added using the `Map.setOptions()` function. \n",
        "The optional basemaps can be `ROADMAP`, `SATELLITE`, `HYBRID`, `TERRAIN`, or `ESRI`."
      ]
    },
    {
      "cell_type": "code",
      "metadata": {},
      "source": [
        "Map = folium.Map(location=[40, -100], zoom_start=4)\n",
        "Map.setOptions('HYBRID')"
      ],
      "outputs": [],
      "execution_count": null
    },
    {
      "cell_type": "markdown",
      "metadata": {},
      "source": [
        "## Add Earth Engine Python script "
      ]
    },
    {
      "cell_type": "code",
      "metadata": {},
      "source": [
        "dataset = ee.Image('USGS/NLCD/NLCD2016')\n",
        "landcover = ee.Image(dataset.select('landcover'))\n",
        "\n",
        "# https:#developers.google.com/earth-engine/datasets/catalog/USGS_NLCD\n",
        "# combine all Developed land classes as one class\n",
        "inList = ee.List([21, 22, 23, 24])\n",
        "outList = ee.List.repeat(20, inList.size())\n",
        "\n",
        "reclassified = landcover.remap(inList, outList)\n",
        "\n",
        "landcoverVis = {\n",
        "  'min': 0.0,\n",
        "  'max': 95.0,\n",
        "  'palette': [\n",
        "    '000000',\n",
        "    '000000',\n",
        "    '000000',\n",
        "    '000000',\n",
        "    '000000',\n",
        "    '000000',\n",
        "    '000000',\n",
        "    '000000',\n",
        "    '000000',\n",
        "    '000000',\n",
        "    '000000',\n",
        "    '466b9f',\n",
        "    'd1def8',\n",
        "    '000000',\n",
        "    '000000',\n",
        "    '000000',\n",
        "    '000000',\n",
        "    '000000',\n",
        "    '000000',\n",
        "    '000000',\n",
        "    '000000',\n",
        "    'dec5c5',\n",
        "    'd99282',\n",
        "    'eb0000',\n",
        "    'ab0000',\n",
        "    '000000',\n",
        "    '000000',\n",
        "    '000000',\n",
        "    '000000',\n",
        "    '000000',\n",
        "    '000000',\n",
        "    'b3ac9f',\n",
        "    '000000',\n",
        "    '000000',\n",
        "    '000000',\n",
        "    '000000',\n",
        "    '000000',\n",
        "    '000000',\n",
        "    '000000',\n",
        "    '000000',\n",
        "    '000000',\n",
        "    '68ab5f',\n",
        "    '1c5f2c',\n",
        "    'b5c58f',\n",
        "    '000000',\n",
        "    '000000',\n",
        "    '000000',\n",
        "    '000000',\n",
        "    '000000',\n",
        "    '000000',\n",
        "    '000000',\n",
        "    'af963c',\n",
        "    'ccb879',\n",
        "    '000000',\n",
        "    '000000',\n",
        "    '000000',\n",
        "    '000000',\n",
        "    '000000',\n",
        "    '000000',\n",
        "    '000000',\n",
        "    '000000',\n",
        "    '000000',\n",
        "    '000000',\n",
        "    '000000',\n",
        "    '000000',\n",
        "    '000000',\n",
        "    '000000',\n",
        "    '000000',\n",
        "    '000000',\n",
        "    '000000',\n",
        "    '000000',\n",
        "    'dfdfc2',\n",
        "    'd1d182',\n",
        "    'a3cc51',\n",
        "    '82ba9e',\n",
        "    '000000',\n",
        "    '000000',\n",
        "    '000000',\n",
        "    '000000',\n",
        "    '000000',\n",
        "    '000000',\n",
        "    'dcd939',\n",
        "    'ab6c28',\n",
        "    '000000',\n",
        "    '000000',\n",
        "    '000000',\n",
        "    '000000',\n",
        "    '000000',\n",
        "    '000000',\n",
        "    '000000',\n",
        "    'b8d9eb',\n",
        "    '000000',\n",
        "    '000000',\n",
        "    '000000',\n",
        "    '000000',\n",
        "    '6c9fb8'\n",
        "  ],\n",
        "}\n",
        "\n",
        "Map.setCenter(-73.28, 40.64, 10)\n",
        "Map.addLayer(landcover, landcoverVis, 'Landcover original')\n",
        "Map.addLayer(reclassified, landcoverVis, 'Landcover reclassified')\n"
      ],
      "outputs": [],
      "execution_count": null
    },
    {
      "cell_type": "markdown",
      "metadata": {},
      "source": [
        "## Display Earth Engine data layers "
      ]
    },
    {
      "cell_type": "code",
      "metadata": {},
      "source": [
        "Map.setControlVisibility(layerControl=True, fullscreenControl=True, latLngPopup=True)\n",
        "Map"
      ],
      "outputs": [],
      "execution_count": null
    }
  ],
  "metadata": {
    "anaconda-cloud": {},
    "kernelspec": {
      "display_name": "Python 3",
      "language": "python",
      "name": "python3"
    },
    "language_info": {
      "codemirror_mode": {
        "name": "ipython",
        "version": 3
      },
      "file_extension": ".py",
      "mimetype": "text/x-python",
      "name": "python",
      "nbconvert_exporter": "python",
      "pygments_lexer": "ipython3",
      "version": "3.6.1"
    }
  },
  "nbformat": 4,
  "nbformat_minor": 1
}