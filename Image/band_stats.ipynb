{
  "cells": [
    {
      "cell_type": "markdown",
      "metadata": {},
      "source": [
        "<table class=\"ee-notebook-buttons\" align=\"left\">\n",
        "    <td><a target=\"_blank\"  href=\"https://github.com/giswqs/earthengine-py-notebooks/tree/master/Image/band_stats.ipynb\"><img width=32px src=\"https://www.tensorflow.org/images/GitHub-Mark-32px.png\" /> View source on GitHub</a></td>\n",
        "    <td><a target=\"_blank\"  href=\"https://nbviewer.jupyter.org/github/giswqs/earthengine-py-notebooks/blob/master/Image/band_stats.ipynb\"><img width=26px src=\"https://upload.wikimedia.org/wikipedia/commons/thumb/3/38/Jupyter_logo.svg/883px-Jupyter_logo.svg.png\" />Notebook Viewer</a></td>\n",
        "    <td><a target=\"_blank\"  href=\"https://mybinder.org/v2/gh/giswqs/earthengine-py-notebooks/master?filepath=Image/band_stats.ipynb\"><img width=58px src=\"https://mybinder.org/static/images/logo_social.png\" />Run in binder</a></td>\n",
        "    <td><a target=\"_blank\"  href=\"https://colab.research.google.com/github/giswqs/earthengine-py-notebooks/blob/master/Image/band_stats.ipynb\"><img src=\"https://www.tensorflow.org/images/colab_logo_32px.png\" /> Run in Google Colab</a></td>\n",
        "</table>"
      ]
    },
    {
      "cell_type": "markdown",
      "metadata": {},
      "source": [
        "## Install Earth Engine API\n",
        "Install the [Earth Engine Python API](https://developers.google.com/earth-engine/python_install) and [geehydro](https://github.com/giswqs/geehydro). The **geehydro** Python package builds on the [folium](https://github.com/python-visualization/folium) package and implements several methods for displaying Earth Engine data layers, such as `Map.addLayer()`, `Map.setCenter()`, `Map.centerObject()`, and `Map.setOptions()`.\n",
        "The magic command `%%capture` can be used to hide output from a specific cell."
      ]
    },
    {
      "cell_type": "code",
      "metadata": {},
      "source": [
        "# %%capture\n",
        "# !pip install earthengine-api\n",
        "# !pip install geehydro"
      ],
      "outputs": [],
      "execution_count": null
    },
    {
      "cell_type": "markdown",
      "metadata": {},
      "source": [
        "Import libraries"
      ]
    },
    {
      "cell_type": "code",
      "metadata": {},
      "source": [
        "import ee\n",
        "import folium\n",
        "import geehydro"
      ],
      "outputs": [],
      "execution_count": null
    },
    {
      "cell_type": "markdown",
      "metadata": {},
      "source": [
        "Authenticate and initialize Earth Engine API. You only need to authenticate the Earth Engine API once. Uncomment the line `ee.Authenticate()` \n",
        "if you are running this notebook for this first time or if you are getting an authentication error.  "
      ]
    },
    {
      "cell_type": "code",
      "metadata": {},
      "source": [
        "# ee.Authenticate()\n",
        "ee.Initialize()"
      ],
      "outputs": [],
      "execution_count": null
    },
    {
      "cell_type": "markdown",
      "metadata": {},
      "source": [
        "## Create an interactive map \n",
        "This step creates an interactive map using [folium](https://github.com/python-visualization/folium). The default basemap is the OpenStreetMap. Additional basemaps can be added using the `Map.setOptions()` function. \n",
        "The optional basemaps can be `ROADMAP`, `SATELLITE`, `HYBRID`, `TERRAIN`, or `ESRI`."
      ]
    },
    {
      "cell_type": "code",
      "metadata": {},
      "source": [
        "Map = folium.Map(location=[40, -100], zoom_start=4)\n",
        "Map.setOptions('HYBRID')"
      ],
      "outputs": [],
      "execution_count": null
    },
    {
      "cell_type": "markdown",
      "metadata": {},
      "source": [
        "## Add Earth Engine Python script "
      ]
    },
    {
      "cell_type": "code",
      "metadata": {},
      "source": [
        "# get highest value\n",
        "def maxValue(img, scale=30):\n",
        "    max_value = img.reduceRegion(**{\n",
        "        'reducer': ee.Reducer.max(),\n",
        "        'geometry': img.geometry(),\n",
        "        'scale': scale,\n",
        "        'maxPixels': 1e9\n",
        "    })\n",
        "    return max_value\n",
        "\n",
        "\n",
        "# get lowest value\n",
        "def minValue(img, scale=30):\n",
        "    min_value = img.reduceRegion(**{\n",
        "        'reducer': ee.Reducer.min(),\n",
        "        'geometry': img.geometry(),\n",
        "        'scale': scale,\n",
        "        'maxPixels': 1e9\n",
        "    })\n",
        "    return min_value\n",
        "\n",
        "\n",
        "# get mean value\n",
        "def meanValue(img, scale=30):\n",
        "    mean_value = img.reduceRegion(**{\n",
        "        'reducer': ee.Reducer.mean(),\n",
        "        'geometry': img.geometry(),\n",
        "        'scale': scale,\n",
        "        'maxPixels': 1e9\n",
        "    })\n",
        "    return mean_value\n",
        "\n",
        "\n",
        "# get standard deviation\n",
        "def stdValue(img, scale=30):\n",
        "    std_value = img.reduceRegion(**{\n",
        "        'reducer': ee.Reducer.stdDev(),\n",
        "        'geometry': img.geometry(),\n",
        "        'scale': scale,\n",
        "        'maxPixels': 1e9\n",
        "    })\n",
        "    return std_value\n",
        "\n",
        "\n",
        "dataset = ee.Image('USGS/NED')\n",
        "dem = dataset.select('elevation')\n",
        "# dem = ee.Image('srtm90_v4')\n",
        "vis_params = {'min': 0, 'max': 3000}\n",
        "Map.addLayer(dem, vis_params, 'NED', False)\n",
        "\n",
        "roi = ee.Geometry.Polygon(\n",
        "    [[[-120.18204899532924, 38.53481618819663],\n",
        "      [-120.18204899532924, 36.54889033300136],\n",
        "      [-116.75431462032924, 36.54889033300136],\n",
        "      [-116.75431462032924, 38.53481618819663]]])\n",
        "\n",
        "image = dem.clip(roi)\n",
        "Map.centerObject(image, 9)\n",
        "Map.addLayer(image, vis_params, 'DEM')\n",
        "\n",
        "scale = image.projection().nominalScale()\n",
        "print(\"Resolution: \", scale.getInfo())\n",
        "\n",
        "scale = 30\n",
        "\n",
        "print(\"Minimum value: \", minValue(image, scale).get('elevation').getInfo())\n",
        "print(\"Maximum value: \", maxValue(image, scale).get('elevation').getInfo())\n",
        "print(\"Average value: \", meanValue(image, scale).get('elevation').getInfo())\n",
        "print(\"Standard deviation: \", stdValue(image, scale).get('elevation').getInfo())\n"
      ],
      "outputs": [],
      "execution_count": null
    },
    {
      "cell_type": "markdown",
      "metadata": {},
      "source": [
        "## Display Earth Engine data layers "
      ]
    },
    {
      "cell_type": "code",
      "metadata": {},
      "source": [
        "Map.setControlVisibility(layerControl=True, fullscreenControl=True, latLngPopup=True)\n",
        "Map"
      ],
      "outputs": [],
      "execution_count": null
    }
  ],
  "metadata": {
    "anaconda-cloud": {},
    "kernelspec": {
      "display_name": "Python 3",
      "language": "python",
      "name": "python3"
    },
    "language_info": {
      "codemirror_mode": {
        "name": "ipython",
        "version": 3
      },
      "file_extension": ".py",
      "mimetype": "text/x-python",
      "name": "python",
      "nbconvert_exporter": "python",
      "pygments_lexer": "ipython3",
      "version": "3.6.1"
    }
  },
  "nbformat": 4,
  "nbformat_minor": 1
}