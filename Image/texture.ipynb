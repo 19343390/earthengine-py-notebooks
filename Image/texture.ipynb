{
  "cells": [
    {
      "cell_type": "markdown",
      "metadata": {},
      "source": [
        "<table class=\"ee-notebook-buttons\" align=\"left\">\n",
        "    <td><a target=\"_blank\"  href=\"https://github.com/giswqs/earthengine-py-notebooks/tree/master/Image/texture.ipynb\"><img width=32px src=\"https://www.tensorflow.org/images/GitHub-Mark-32px.png\" /> View source on GitHub</a></td>\n",
        "    <td><a target=\"_blank\"  href=\"https://nbviewer.jupyter.org/github/giswqs/earthengine-py-notebooks/blob/master/Image/texture.ipynb\"><img width=26px src=\"https://upload.wikimedia.org/wikipedia/commons/thumb/3/38/Jupyter_logo.svg/883px-Jupyter_logo.svg.png\" />Notebook Viewer</a></td>\n",
        "    <td><a target=\"_blank\"  href=\"https://mybinder.org/v2/gh/giswqs/earthengine-py-notebooks/master?filepath=Image/texture.ipynb\"><img width=58px src=\"https://mybinder.org/static/images/logo_social.png\" />Run in binder</a></td>\n",
        "    <td><a target=\"_blank\"  href=\"https://colab.research.google.com/github/giswqs/earthengine-py-notebooks/blob/master/Image/texture.ipynb\"><img src=\"https://www.tensorflow.org/images/colab_logo_32px.png\" /> Run in Google Colab</a></td>\n",
        "</table>"
      ]
    },
    {
      "cell_type": "markdown",
      "metadata": {},
      "source": [
        "## Install Earth Engine API\n",
        "Install the [Earth Engine Python API](https://developers.google.com/earth-engine/python_install) and [geehydro](https://github.com/giswqs/geehydro). The **geehydro** Python package builds on the [folium](https://github.com/python-visualization/folium) package and implements several methods for displaying Earth Engine data layers, such as `Map.addLayer()`, `Map.setCenter()`, `Map.centerObject()`, and `Map.setOptions()`.\n",
        "The magic command `%%capture` can be used to hide output from a specific cell."
      ]
    },
    {
      "cell_type": "code",
      "metadata": {},
      "source": [
        "# %%capture\n",
        "# !pip install earthengine-api\n",
        "# !pip install geehydro"
      ],
      "outputs": [],
      "execution_count": null
    },
    {
      "cell_type": "markdown",
      "metadata": {},
      "source": [
        "Import libraries"
      ]
    },
    {
      "cell_type": "code",
      "metadata": {},
      "source": [
        "import ee\n",
        "import folium\n",
        "import geehydro"
      ],
      "outputs": [],
      "execution_count": null
    },
    {
      "cell_type": "markdown",
      "metadata": {},
      "source": [
        "Authenticate and initialize Earth Engine API. You only need to authenticate the Earth Engine API once. Uncomment the line `ee.Authenticate()` \n",
        "if you are running this notebook for this first time or if you are getting an authentication error.  "
      ]
    },
    {
      "cell_type": "code",
      "metadata": {},
      "source": [
        "# ee.Authenticate()\n",
        "ee.Initialize()"
      ],
      "outputs": [],
      "execution_count": null
    },
    {
      "cell_type": "markdown",
      "metadata": {},
      "source": [
        "## Create an interactive map \n",
        "This step creates an interactive map using [folium](https://github.com/python-visualization/folium). The default basemap is the OpenStreetMap. Additional basemaps can be added using the `Map.setOptions()` function. \n",
        "The optional basemaps can be `ROADMAP`, `SATELLITE`, `HYBRID`, `TERRAIN`, or `ESRI`."
      ]
    },
    {
      "cell_type": "code",
      "metadata": {},
      "source": [
        "Map = folium.Map(location=[40, -100], zoom_start=4)\n",
        "Map.setOptions('HYBRID')"
      ],
      "outputs": [],
      "execution_count": null
    },
    {
      "cell_type": "markdown",
      "metadata": {},
      "source": [
        "## Add Earth Engine Python script "
      ]
    },
    {
      "cell_type": "code",
      "metadata": {},
      "source": [
        "# Load a high-resolution NAIP image.\n",
        "image = ee.Image('USDA/NAIP/DOQQ/m_3712213_sw_10_1_20140613')\n",
        "\n",
        "# Zoom to San Francisco, display.\n",
        "Map.setCenter(-122.466123, 37.769833, 17)\n",
        "Map.addLayer(image, {'max': 255}, 'image')\n",
        "\n",
        "# Get the NIR band.\n",
        "nir = image.select('N')\n",
        "\n",
        "# Define a neighborhood with a kernel.\n",
        "square = ee.Kernel.square(**{'radius': 4})\n",
        "\n",
        "# Compute entropy and display.\n",
        "entropy = nir.entropy(square)\n",
        "Map.addLayer(entropy,\n",
        "             {'min': 1, 'max': 5, 'palette': ['0000CC', 'CC0000']},\n",
        "             'entropy')\n",
        "\n",
        "# Compute the gray-level co-occurrence matrix (GLCM), get contrast.\n",
        "glcm = nir.glcmTexture(**{'size': 4})\n",
        "contrast = glcm.select('N_contrast')\n",
        "Map.addLayer(contrast,\n",
        "             {'min': 0, 'max': 1500, 'palette': ['0000CC', 'CC0000']},\n",
        "             'contrast')\n",
        "\n",
        "# Create a list of weights for a 9x9 kernel.\n",
        "list = [1, 1, 1, 1, 1, 1, 1, 1, 1]\n",
        "# The center of the kernel is zero.\n",
        "centerList = [1, 1, 1, 1, 0, 1, 1, 1, 1]\n",
        "# Assemble a list of lists: the 9x9 kernel weights as a 2-D matrix.\n",
        "lists = [list, list, list, list, centerList, list, list, list, list]\n",
        "# Create the kernel from the weights.\n",
        "# Non-zero weights represent the spatial neighborhood.\n",
        "kernel = ee.Kernel.fixed(9, 9, lists, -4, -4, False)\n",
        "\n",
        "# Convert the neighborhood into multiple bands.\n",
        "neighs = nir.neighborhoodToBands(kernel)\n",
        "\n",
        "# Compute local Geary's C, a measure of spatial association.\n",
        "gearys = nir.subtract(neighs).pow(2).reduce(ee.Reducer.sum()) \\\n",
        "             .divide(math.pow(9, 2))\n",
        "Map.addLayer(gearys,\n",
        "             {'min': 20, 'max': 2500, 'palette': ['0000CC', 'CC0000']},\n",
        "             \"Geary's C\")\n",
        "\n"
      ],
      "outputs": [],
      "execution_count": null
    },
    {
      "cell_type": "markdown",
      "metadata": {},
      "source": [
        "## Display Earth Engine data layers "
      ]
    },
    {
      "cell_type": "code",
      "metadata": {},
      "source": [
        "Map.setControlVisibility(layerControl=True, fullscreenControl=True, latLngPopup=True)\n",
        "Map"
      ],
      "outputs": [],
      "execution_count": null
    }
  ],
  "metadata": {
    "anaconda-cloud": {},
    "kernelspec": {
      "display_name": "Python 3",
      "language": "python",
      "name": "python3"
    },
    "language_info": {
      "codemirror_mode": {
        "name": "ipython",
        "version": 3
      },
      "file_extension": ".py",
      "mimetype": "text/x-python",
      "name": "python",
      "nbconvert_exporter": "python",
      "pygments_lexer": "ipython3",
      "version": "3.6.1"
    }
  },
  "nbformat": 4,
  "nbformat_minor": 1
}