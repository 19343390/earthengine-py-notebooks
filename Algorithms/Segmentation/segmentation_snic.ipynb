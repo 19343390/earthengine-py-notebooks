{
 "cells": [
  {
   "cell_type": "markdown",
   "metadata": {},
   "source": [
    "<table class=\"ee-notebook-buttons\" align=\"left\">\n",
    "    <td><a target=\"_blank\"  href=\"https://github.com/giswqs/earthengine-py-notebooks/tree/master/Algorithms/Segmentation/segmentation_snic.ipynb\"><img width=32px src=\"https://www.tensorflow.org/images/GitHub-Mark-32px.png\" /> View source on GitHub</a></td>\n",
    "    <td><a target=\"_blank\"  href=\"https://nbviewer.jupyter.org/github/giswqs/earthengine-py-notebooks/blob/master/Algorithms/Segmentation/segmentation_snic.ipynb\"><img width=26px src=\"https://upload.wikimedia.org/wikipedia/commons/thumb/3/38/Jupyter_logo.svg/883px-Jupyter_logo.svg.png\" />Notebook Viewer</a></td>\n",
    "    <td><a target=\"_blank\"  href=\"https://mybinder.org/v2/gh/giswqs/earthengine-py-notebooks/master?filepath=Algorithms/Segmentation/segmentation_snic.ipynb\"><img width=58px src=\"https://mybinder.org/static/images/logo_social.png\" />Run in binder</a></td>\n",
    "    <td><a target=\"_blank\"  href=\"https://colab.research.google.com/github/giswqs/earthengine-py-notebooks/blob/master/Algorithms/Segmentation/segmentation_snic.ipynb\"><img src=\"https://www.tensorflow.org/images/colab_logo_32px.png\" /> Run in Google Colab</a></td>\n",
    "</table>"
   ]
  },
  {
   "cell_type": "markdown",
   "metadata": {},
   "source": [
    "## Install Earth Engine API\n",
    "Install the [Earth Engine Python API](https://developers.google.com/earth-engine/python_install) and [geehydro](https://github.com/giswqs/geehydro). The **geehydro** Python package builds on the [folium](https://github.com/python-visualization/folium) package and implements several methods for displaying Earth Engine data layers, such as `Map.addLayer()`, `Map.setCenter()`, `Map.centerObject()`, and `Map.setOptions()`.\n",
    "The following script checks if the geehydro package has been installed. If not, it will install geehydro, which automatically install its dependencies, including earthengine-api and folium."
   ]
  },
  {
   "cell_type": "code",
   "execution_count": 1,
   "metadata": {},
   "outputs": [],
   "source": [
    "import subprocess\n",
    "\n",
    "try:\n",
    "    import geehydro\n",
    "except ImportError:\n",
    "    print('geehydro package not installed. Installing ...')\n",
    "    subprocess.check_call([\"python\", '-m', 'pip', 'install', 'geehydro'])"
   ]
  },
  {
   "cell_type": "markdown",
   "metadata": {},
   "source": [
    "Import libraries"
   ]
  },
  {
   "cell_type": "code",
   "execution_count": 2,
   "metadata": {},
   "outputs": [],
   "source": [
    "import ee\n",
    "import folium\n",
    "import geehydro"
   ]
  },
  {
   "cell_type": "markdown",
   "metadata": {},
   "source": [
    "Authenticate and initialize Earth Engine API. You only need to authenticate the Earth Engine API once. "
   ]
  },
  {
   "cell_type": "code",
   "execution_count": 3,
   "metadata": {},
   "outputs": [],
   "source": [
    "try:\n",
    "    ee.Initialize()\n",
    "except Exception as e:\n",
    "    ee.Authenticate()\n",
    "    ee.Initialize()"
   ]
  },
  {
   "cell_type": "markdown",
   "metadata": {},
   "source": [
    "## Create an interactive map \n",
    "This step creates an interactive map using [folium](https://github.com/python-visualization/folium). The default basemap is the OpenStreetMap. Additional basemaps can be added using the `Map.setOptions()` function. \n",
    "The optional basemaps can be `ROADMAP`, `SATELLITE`, `HYBRID`, `TERRAIN`, or `ESRI`."
   ]
  },
  {
   "cell_type": "code",
   "execution_count": 4,
   "metadata": {},
   "outputs": [],
   "source": [
    "Map = folium.Map(location=[40, -100], zoom_start=4)\n",
    "Map.setOptions('HYBRID')"
   ]
  },
  {
   "cell_type": "markdown",
   "metadata": {},
   "source": [
    "## Add Earth Engine Python script "
   ]
  },
  {
   "cell_type": "code",
   "execution_count": 5,
   "metadata": {},
   "outputs": [],
   "source": [
    "# imageCollection = ee.ImageCollection(\"USDA/NAIP/DOQQ\"),\n",
    "# geometry = ee.Geometry.Polygon(\n",
    "#     [[[-121.89511299133301, 38.98496606984683],\n",
    "#         [-121.89511299133301, 38.909335196675435],\n",
    "#         [-121.69358253479004, 38.909335196675435],\n",
    "#         [-121.69358253479004, 38.98496606984683]]], {}, False),\n",
    "# geometry2 = ee.Geometry.Polygon(\n",
    "#     [[[-108.34304809570307, 36.66975278349341],\n",
    "#         [-108.34225416183466, 36.66977859999848],\n",
    "#         [-108.34226489067072, 36.67042400981031],\n",
    "#         [-108.34308028221125, 36.670380982657925]]]),\n",
    "# imageCollection2 = ee.ImageCollection(\"USDA/NASS/CDL\"),\n",
    "# cdl2016 = ee.Image(\"USDA/NASS/CDL/2016\")\n",
    "\n",
    "\n",
    "# Map.centerObject(geometry, {}, 'roi')\n",
    "# # Map.addLayer(ee.Image(1), {'palette': \"white\"})\n",
    "# cdl2016 = cdl2016.select(0).clip(geometry)\n",
    "\n",
    "# function erode(img, distance) {\n",
    "#   d = (img.Not().unmask(1) \\\n",
    "#        .fastDistanceTransform(30).sqrt() \\\n",
    "#        .multiply(ee.Image.pixelArea().sqrt()))\n",
    "#   return img.updateMask(d.gt(distance))\n",
    "# }\n",
    "\n",
    "# function dilate(img, distance) {\n",
    "#   d = (img.fastDistanceTransform(30).sqrt() \\\n",
    "#        .multiply(ee.Image.pixelArea().sqrt()))\n",
    "#   return d.lt(distance)\n",
    "# }\n",
    "\n",
    "# function expandSeeds(seeds) {\n",
    "#   seeds = seeds.unmask(0).focal_max()\n",
    "#   return seeds.updateMask(seeds)\n",
    "# }\n",
    "\n",
    "# bands = [\"R\", \"G\", \"B\", \"N\"]\n",
    "# img = imageCollection \\\n",
    "#     .filterDate('2015-01-01', '2017-01-01') \\\n",
    "#     .filterBounds(geometry) \\\n",
    "#     .mosaic()\n",
    "# img = ee.Image(img).clip(geometry).divide(255).select(bands)\n",
    "# Map.addLayer(img, {'gamma': 0.8}, \"RGBN\", False)\n",
    "\n",
    "# seeds = ee.Algorithms.Image.Segmentation.seedGrid(36)\n",
    "\n",
    "# # Apply a softening.\n",
    "# kernel = ee.Kernel.gaussian(3)\n",
    "# img = img.convolve(kernel)\n",
    "# Map.addLayer(img, {'gamma': 0.8}, \"RGBN blur\", False)\n",
    "\n",
    "# # Compute and display NDVI, NDVI slices and NDVI gradient.\n",
    "# ndvi = img.normalizedDifference([\"N\", \"R\"])\n",
    "# # print(ui.Chart.image.histogram(ndvi, geometry, 10))\n",
    "# Map.addLayer(ndvi, {'min':0, 'max':1, 'palette': [\"black\", \"tan\", \"green\", \"darkgreen\"]}, \"NDVI\", False)\n",
    "# Map.addLayer(ndvi.gt([0, 0.2, 0.40, 0.60, 0.80, 1.00]).reduce('sum'), {'min':0, 'max': 6}, \"NDVI steps\", False)\n",
    "# ndviGradient = ndvi.gradient().pow(2).reduce('sum').sqrt()\n",
    "# Map.addLayer(ndviGradient, {'min':0, 'max':0.01}, \"NDVI gradient\", False)\n",
    "\n",
    "# gradient = img.spectralErosion().spectralGradient('emd')\n",
    "# Map.addLayer(gradient, {'min':0, 'max': 0.3}, \"emd\", False)\n",
    "\n",
    "# # Run SNIC on the regular square grid.\n",
    "# snic = ee.Algorithms.Image.Segmentation.SNIC({\n",
    "#   'image': img,\n",
    "#   'size': 32,\n",
    "#   compactness: 5,\n",
    "#   connectivity: 8,\n",
    "#   neighborhoodSize:256,\n",
    "#   seeds: seeds\n",
    "# }).select([\"R_mean\", \"G_mean\", \"B_mean\", \"N_mean\", \"clusters\"], [\"R\", \"G\", \"B\", \"N\", \"clusters\"])\n",
    "\n",
    "# clusters = snic.select(\"clusters\")\n",
    "# Map.addLayer(clusters.randomVisualizer(), {}, \"clusters\")\n",
    "# Map.addLayer(snic, {'bands': [\"R\", \"G\", \"B\"], 'min':0, 'max':1, 'gamma': 0.8}, \"means\", False)\n",
    "# Map.addLayer(expandSeeds(seeds))\n",
    "\n",
    "# # Compute per-cluster stdDev.\n",
    "# stdDev = img.addBands(clusters).reduceConnectedComponents(ee.Reducer.stdDev(), \"clusters\", 256)\n",
    "# Map.addLayer(stdDev, {'min':0, 'max':0.1}, \"StdDev\")\n",
    "\n",
    "# # Display outliers as transparent\n",
    "# outliers = stdDev.reduce('sum').gt(0.25)\n",
    "# Map.addLayer(outliers.updateMask(outliers.Not()), {}, \"Outliers\", False)\n",
    "\n",
    "# # Within each outlier, find most distant member.\n",
    "# distance = img.select(bands).spectralDistance(snic.select(bands), \"sam\").updateMask(outliers)\n",
    "# maxDistance = distance.addBands(clusters).reduceConnectedComponents(ee.Reducer.max(), \"clusters\", 256)\n",
    "# Map.addLayer(distance, {'min':0, 'max':0.3}, \"max distance\")\n",
    "# Map.addLayer(expandSeeds(expandSeeds(distance.eq(maxDistance))), {'palette': [\"red\"]}, \"second seeds\")\n",
    "\n",
    "# newSeeds = seeds.unmask(0).add(distance.eq(maxDistance).unmask(0))\n",
    "# newSeeds = newSeeds.updateMask(newSeeds)\n",
    "\n",
    "# # Run SNIC again with both sets of seeds.\n",
    "# snic2 = ee.Algorithms.Image.Segmentation.SNIC({\n",
    "#   'image': img,\n",
    "#   'size': 32,\n",
    "#   compactness: 5,\n",
    "#   connectivity: 8,\n",
    "#   neighborhoodSize: 256,\n",
    "#   seeds: newSeeds\n",
    "# }).select([\"R_mean\", \"G_mean\", \"B_mean\", \"N_mean\", \"clusters\"], [\"R\", \"G\", \"B\", \"N\", \"clusters\"])\n",
    "# clusters2 = snic2.select(\"clusters\")\n",
    "# Map.addLayer(clusters2.randomVisualizer(), {}, \"clusters 2\")\n",
    "# Map.addLayer(snic2, {'bands': [\"R\", \"G\", \"B\"], 'min':0, 'max':1, 'gamma': 0.8}, \"means\", False)\n",
    "\n",
    "# # Compute outliers again.\n",
    "# stdDev2 = img.addBands(clusters2).reduceConnectedComponents(ee.Reducer.stdDev(), \"clusters\", 256)\n",
    "# Map.addLayer(stdDev2, {'min':0, 'max':0.1}, \"StdDev 2\")\n",
    "# outliers2 = stdDev2.reduce('sum').gt(0.25)\n",
    "# outliers2 = outliers2.updateMask(outliers2.Not())\n",
    "# Map.addLayer(outliers2, {}, \"Outliers 2\", False)\n",
    "\n",
    "# # Show the final set of seeds.\n",
    "# Map.addLayer(expandSeeds(newSeeds), {'palette': \"white\"}, \"newSeeds\")\n",
    "# Map.addLayer(expandSeeds(distance.eq(maxDistance)), {'palette': [\"red\"]}, \"second seeds\")\n",
    "\n",
    "# # Area, Perimeter, Width and Height (using snic1 for speed)\n",
    "# area = ee.Image.pixelArea().addBands(clusters).reduceConnectedComponents(ee.Reducer.sum(), \"clusters\", 256)\n",
    "# Map.addLayer(area, {'min':50000, 'max': 500000}, \"Cluster Area\")\n",
    "# minMax = clusters.reduceNeighborhood(ee.Reducer.minMax(), ee.Kernel.square(1))\n",
    "\n",
    "# perimeterPixels = minMax.select(0).neq(minMax.select(1)).rename('perimeter')\n",
    "# Map.addLayer(perimeterPixels, {'min': 0, 'max': 1}, 'perimeterPixels')\n",
    "\n",
    "# perimeter = perimeterPixels.addBands(clusters) \\\n",
    "#     .reduceConnectedComponents(ee.Reducer.sum(), 'clusters', 256)\n",
    "# Map.addLayer(perimeter, {'min': 100, 'max': 400}, 'Perimeter size', False)\n",
    "\n",
    "# sizes = ee.Image.pixelLonLat().addBands(clusters).reduceConnectedComponents(ee.Reducer.minMax(), \"clusters\", 256)\n",
    "# width = sizes.select(\"longitude_max\").subtract(sizes.select(\"longitude_min\"))\n",
    "# height = sizes.select(\"latitude_max\").subtract(sizes.select(\"latitude_min\"))\n",
    "# Map.addLayer(width, {'min':0, 'max':0.02}, \"Cluster width\")\n",
    "# Map.addLayer(height, {'min':0, 'max':0.02}, \"Cluster height\")\n"
   ]
  },
  {
   "cell_type": "markdown",
   "metadata": {},
   "source": [
    "## Display Earth Engine data layers "
   ]
  },
  {
   "cell_type": "code",
   "execution_count": 6,
   "metadata": {},
   "outputs": [
    {
     "data": {
      "text/html": [
       "<div style=\"width:100%;\"><div style=\"position:relative;width:100%;height:0;padding-bottom:60%;\"><iframe src=\"data:text/html;charset=utf-8;base64,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\" style=\"position:absolute;width:100%;height:100%;left:0;top:0;border:none !important;\" allowfullscreen webkitallowfullscreen mozallowfullscreen></iframe></div></div>"
      ],
      "text/plain": [
       "<folium.folium.Map at 0x7f0e6bde8cf8>"
      ]
     },
     "execution_count": 6,
     "metadata": {},
     "output_type": "execute_result"
    }
   ],
   "source": [
    "Map.setControlVisibility(layerControl=True, fullscreenControl=True, latLngPopup=True)\n",
    "Map"
   ]
  }
 ],
 "metadata": {
  "anaconda-cloud": {},
  "kernelspec": {
   "display_name": "Python 3",
   "language": "python",
   "name": "python3"
  },
  "language_info": {
   "codemirror_mode": {
    "name": "ipython",
    "version": 3
   },
   "file_extension": ".py",
   "mimetype": "text/x-python",
   "name": "python",
   "nbconvert_exporter": "python",
   "pygments_lexer": "ipython3",
   "version": "3.7.3"
  }
 },
 "nbformat": 4,
 "nbformat_minor": 1
}
