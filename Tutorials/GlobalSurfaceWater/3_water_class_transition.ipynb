{
 "cells": [
  {
   "cell_type": "markdown",
   "metadata": {},
   "source": [
    "<table class=\"ee-notebook-buttons\" align=\"left\">\n",
    "    <td><a target=\"_blank\"  href=\"https://github.com/giswqs/earthengine-py-notebooks/tree/master/Tutorials/GlobalSurfaceWater/3_water_class_transition.ipynb\"><img width=32px src=\"https://www.tensorflow.org/images/GitHub-Mark-32px.png\" /> View source on GitHub</a></td>\n",
    "    <td><a target=\"_blank\"  href=\"https://nbviewer.jupyter.org/github/giswqs/earthengine-py-notebooks/blob/master/Tutorials/GlobalSurfaceWater/3_water_class_transition.ipynb\"><img width=26px src=\"https://upload.wikimedia.org/wikipedia/commons/thumb/3/38/Jupyter_logo.svg/883px-Jupyter_logo.svg.png\" />Notebook Viewer</a></td>\n",
    "    <td><a target=\"_blank\"  href=\"https://mybinder.org/v2/gh/giswqs/earthengine-py-notebooks/master?filepath=Tutorials/GlobalSurfaceWater/3_water_class_transition.ipynb\"><img width=58px src=\"https://mybinder.org/static/images/logo_social.png\" />Run in binder</a></td>\n",
    "    <td><a target=\"_blank\"  href=\"https://colab.research.google.com/github/giswqs/earthengine-py-notebooks/blob/master/Tutorials/GlobalSurfaceWater/3_water_class_transition.ipynb\"><img src=\"https://www.tensorflow.org/images/colab_logo_32px.png\" /> Run in Google Colab</a></td>\n",
    "</table>"
   ]
  },
  {
   "cell_type": "markdown",
   "metadata": {},
   "source": [
    "## Install Earth Engine API\n",
    "Install the [Earth Engine Python API](https://developers.google.com/earth-engine/python_install) and [geehydro](https://github.com/giswqs/geehydro). The **geehydro** Python package builds on the [folium](https://github.com/python-visualization/folium) package and implements several methods for displaying Earth Engine data layers, such as `Map.addLayer()`, `Map.setCenter()`, `Map.centerObject()`, and `Map.setOptions()`.\n",
    "The magic command `%%capture` can be used to hide output from a specific cell."
   ]
  },
  {
   "cell_type": "code",
   "execution_count": 1,
   "metadata": {},
   "outputs": [],
   "source": [
    "# %%capture\n",
    "# !pip install earthengine-api\n",
    "# !pip install geehydro"
   ]
  },
  {
   "cell_type": "markdown",
   "metadata": {},
   "source": [
    "Import libraries"
   ]
  },
  {
   "cell_type": "code",
   "execution_count": 2,
   "metadata": {},
   "outputs": [],
   "source": [
    "import ee\n",
    "import folium\n",
    "import geehydro"
   ]
  },
  {
   "cell_type": "markdown",
   "metadata": {},
   "source": [
    "Authenticate and initialize Earth Engine API. You only need to authenticate the Earth Engine API once. Uncomment the line `ee.Authenticate()` \n",
    "if you are running this notebook for this first time or if you are getting an authentication error.  "
   ]
  },
  {
   "cell_type": "code",
   "execution_count": 3,
   "metadata": {},
   "outputs": [],
   "source": [
    "# ee.Authenticate()\n",
    "ee.Initialize()"
   ]
  },
  {
   "cell_type": "markdown",
   "metadata": {},
   "source": [
    "## Create an interactive map \n",
    "This step creates an interactive map using [folium](https://github.com/python-visualization/folium). The default basemap is the OpenStreetMap. Additional basemaps can be added using the `Map.setOptions()` function. \n",
    "The optional basemaps can be `ROADMAP`, `SATELLITE`, `HYBRID`, `TERRAIN`, or `ESRI`."
   ]
  },
  {
   "cell_type": "code",
   "execution_count": 4,
   "metadata": {},
   "outputs": [],
   "source": [
    "Map = folium.Map(location=[40, -100], zoom_start=4)\n",
    "Map.setOptions('HYBRID')"
   ]
  },
  {
   "cell_type": "markdown",
   "metadata": {},
   "source": [
    "## Add Earth Engine Python script "
   ]
  },
  {
   "cell_type": "code",
   "execution_count": 5,
   "metadata": {},
   "outputs": [
    {
     "name": "stdout",
     "output_type": "stream",
     "text": [
      "reduction_results {'groups': [{'sum': 21256029.40851115, 'transition_class_value': 1}, {'sum': 2512927.5916645126, 'transition_class_value': 2}, {'sum': 1993155.3505155677, 'transition_class_value': 3}, {'sum': 107456916.62550578, 'transition_class_value': 4}, {'sum': 219336140.53211078, 'transition_class_value': 5}, {'sum': 108883919.66983475, 'transition_class_value': 6}, {'sum': 175012.12293461818, 'transition_class_value': 7}, {'sum': 1927724.423698874, 'transition_class_value': 8}, {'sum': 31757.348244820387, 'transition_class_value': 9}, {'sum': 174372153.58940092, 'transition_class_value': 10}]}\n"
     ]
    }
   ],
   "source": [
    "###############################\n",
    "# Asset List\n",
    "###############################\n",
    "\n",
    "gsw = ee.Image('JRC/GSW1_1/GlobalSurfaceWater')\n",
    "occurrence = gsw.select('occurrence')\n",
    "change = gsw.select(\"change_abs\")\n",
    "transition = gsw.select('transition')\n",
    "roi = ee.Geometry.Polygon(\n",
    "        [[[105.531921, 10.412183],\n",
    "          [105.652770, 10.285193],\n",
    "          [105.949401, 10.520218],\n",
    "          [105.809326, 10.666006]]])\n",
    "###############################\n",
    "# Constants\n",
    "###############################\n",
    "\n",
    "VIS_OCCURRENCE = {\n",
    "    'min': 0,\n",
    "    'max': 100,\n",
    "    'palette': ['red', 'blue']\n",
    "}\n",
    "VIS_CHANGE = {\n",
    "    'min': -50,\n",
    "    'max': 50,\n",
    "    'palette': ['red', 'black', 'limegreen']\n",
    "}\n",
    "VIS_WATER_MASK = {\n",
    "  'palette': ['white', 'black']\n",
    "}\n",
    "\n",
    "###############################\n",
    "# Helper functions\n",
    "###############################\n",
    "\n",
    "# Create a feature for a transition class that includes the area covered.\n",
    "def createFeature(transition_class_stats):\n",
    "  transition_class_stats = ee.Dictionary(transition_class_stats)\n",
    "  class_number = transition_class_stats.get('transition_class_value')\n",
    "  result = {\n",
    "      'transition_class_number': class_number,\n",
    "      'transition_class_''name': lookup_names.get(class_number),\n",
    "      'transition_class_''palette': lookup_palette.get(class_number),\n",
    "      'area_m2': transition_class_stats.get('sum')\n",
    "  }\n",
    "  return ee.Feature({}, result)   # Creates a feature without a geometry.\n",
    "\n",
    "\n",
    "# Create a JSON dictionary that defines piechart colors based on the\n",
    "# transition class palette.\n",
    "# https:#developers.google.com/chart/interactive/docs/gallery/piechart\n",
    "def createPieChartSliceDictionary(fc):\n",
    "  return ee.List(fc.aggregate_array(\"transition_class_palette\")) \\\n",
    "    .map(lambda p: {'color': p}).getInfo()\n",
    "\n",
    "\n",
    "###############################\n",
    "# Calculations\n",
    "###############################\n",
    "\n",
    "# Create a dictionary for looking up names of transition classes.\n",
    "lookup_names = ee.Dictionary.fromLists(\n",
    "    ee.List(gsw.get('transition_class_values')).map(ee.String),\n",
    "    gsw.get('transition_class_names')\n",
    ")\n",
    "# Create a dictionary for looking up colors of transition classes.\n",
    "lookup_palette = ee.Dictionary.fromLists(\n",
    "    ee.List(gsw.get('transition_class_values')).map(ee.String),\n",
    "    gsw.get('transition_class_palette')\n",
    ")\n",
    "\n",
    "# Create a water mask layer, and set the image mask so that non-water areas\n",
    "# are transparent.\n",
    "water_mask = occurrence.gt(90).mask(1)\n",
    "# # Generate a histogram object and print it to the console tab.\n",
    "# histogram = ui.Chart.image.histogram({\n",
    "#   'image': change,\n",
    "#   'region': roi,\n",
    "#   'scale': 30,\n",
    "#   'minBucketWidth': 10\n",
    "# })\n",
    "# histogram.setOptions({\n",
    "#   title: 'Histogram of surface water change intensity.'\n",
    "# })\n",
    "# print(histogram)\n",
    "\n",
    "# Summarize transition classes in a region of interest.\n",
    "area_image_with_transition_class = ee.Image.pixelArea().addBands(transition)\n",
    "reduction_results = area_image_with_transition_class.reduceRegion(**{\n",
    "  'reducer': ee.Reducer.sum().group(**{\n",
    "    'groupField': 1,\n",
    "    'groupName': 'transition_class_value',\n",
    "  }),\n",
    "  'geometry': roi,\n",
    "  'scale': 30,\n",
    "  'bestEffort': True,\n",
    "})\n",
    "print('reduction_results', reduction_results.getInfo())\n",
    "\n",
    "# roi_stats = ee.List(reduction_results.get('groups'))\n",
    "\n",
    "# transition_fc = ee.FeatureCollection(roi_stats.map(createFeature))\n",
    "# print('transition_fc', transition_fc.getInfo())\n",
    "\n",
    "# # Add a summary chart.\n",
    "# transition_summary_chart = ui.Chart.feature.byFeature({\n",
    "#     features: transition_fc,\n",
    "#     xProperty: 'transition_class_name',\n",
    "#     yProperties: ['area_m2', 'transition_class_number']\n",
    "#   }) \\\n",
    "#   .setChartType('PieChart') \\\n",
    "#   .setOptions({\n",
    "#     title: 'Summary of transition class areas',\n",
    "#     slices: createPieChartSliceDictionary(transition_fc),\n",
    "#     sliceVisibilityThreshold: 0  # Don't group small slices.\n",
    "#   })\n",
    "# print(transition_summary_chart)\n",
    "\n",
    "###############################\n",
    "# Initialize Map Location\n",
    "###############################\n",
    "\n",
    "# Uncomment one of the following statements to center the map on\n",
    "# a particular location.\n",
    "# Map.setCenter(-90.162, 29.8597, 10)   # New Orleans, USA\n",
    "# Map.setCenter(-114.9774, 31.9254, 10) # Mouth of the Colorado River, Mexico\n",
    "# Map.setCenter(-111.1871, 37.0963, 11) # Lake Powell, USA\n",
    "# Map.setCenter(149.412, -35.0789, 11)  # Lake George, Australia\n",
    "Map.setCenter(105.26, 11.2134, 9)     # Mekong River Basin, SouthEast Asia\n",
    "# Map.setCenter(90.6743, 22.7382, 10)   # Meghna River, Bangladesh\n",
    "# Map.setCenter(81.2714, 16.5079, 11)   # Godavari River Basin Irrigation Project, India\n",
    "# Map.setCenter(14.7035, 52.0985, 12)   # River Oder, Germany & Poland\n",
    "# Map.setCenter(-59.1696, -33.8111, 9)  # Buenos Aires, Argentina\n",
    "# Map.setCenter(-74.4557, -8.4289, 11)  # Ucayali River, Peru\n",
    "\n",
    "###############################\n",
    "# Map Layers\n",
    "###############################\n",
    "\n",
    "Map.addLayer(water_mask, VIS_WATER_MASK, '90% occurrence water mask', False)\n",
    "Map.addLayer(occurrence.updateMask(occurrence.divide(100)), VIS_OCCURRENCE, \"Water Occurrence (1984-2015)\", False)\n",
    "Map.addLayer(change, VIS_CHANGE, 'occurrence change intensity', False)\n",
    "Map.addLayer( transition, {}, 'Transition classes (1984-2018)')\n"
   ]
  },
  {
   "cell_type": "markdown",
   "metadata": {},
   "source": [
    "## Display Earth Engine data layers "
   ]
  },
  {
   "cell_type": "code",
   "execution_count": 6,
   "metadata": {},
   "outputs": [
    {
     "data": {
      "text/html": [
       "<div style=\"width:100%;\"><div style=\"position:relative;width:100%;height:0;padding-bottom:60%;\"><iframe src=\"data:text/html;charset=utf-8;base64,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\" style=\"position:absolute;width:100%;height:100%;left:0;top:0;border:none !important;\" allowfullscreen webkitallowfullscreen mozallowfullscreen></iframe></div></div>"
      ],
      "text/plain": [
       "<folium.folium.Map at 0x7f8eab9a8588>"
      ]
     },
     "execution_count": 6,
     "metadata": {},
     "output_type": "execute_result"
    }
   ],
   "source": [
    "Map.setControlVisibility(layerControl=True, fullscreenControl=True, latLngPopup=True)\n",
    "Map"
   ]
  }
 ],
 "metadata": {
  "anaconda-cloud": {},
  "kernelspec": {
   "display_name": "Python 3",
   "language": "python",
   "name": "python3"
  },
  "language_info": {
   "codemirror_mode": {
    "name": "ipython",
    "version": 3
   },
   "file_extension": ".py",
   "mimetype": "text/x-python",
   "name": "python",
   "nbconvert_exporter": "python",
   "pygments_lexer": "ipython3",
   "version": "3.7.3"
  }
 },
 "nbformat": 4,
 "nbformat_minor": 1
}
