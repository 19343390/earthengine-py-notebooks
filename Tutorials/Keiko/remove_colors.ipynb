{
 "cells": [
  {
   "cell_type": "markdown",
   "metadata": {},
   "source": [
    "<table class=\"ee-notebook-buttons\" align=\"left\">\n",
    "    <td><a target=\"_blank\"  href=\"https://github.com/giswqs/earthengine-py-notebooks/tree/master/Tutorials/Keiko/remove_colors.ipynb\"><img width=32px src=\"https://www.tensorflow.org/images/GitHub-Mark-32px.png\" /> View source on GitHub</a></td>\n",
    "    <td><a target=\"_blank\"  href=\"https://nbviewer.jupyter.org/github/giswqs/earthengine-py-notebooks/blob/master/Tutorials/Keiko/remove_colors.ipynb\"><img width=26px src=\"https://upload.wikimedia.org/wikipedia/commons/thumb/3/38/Jupyter_logo.svg/883px-Jupyter_logo.svg.png\" />Notebook Viewer</a></td>\n",
    "    <td><a target=\"_blank\"  href=\"https://mybinder.org/v2/gh/giswqs/earthengine-py-notebooks/master?filepath=Tutorials/Keiko/remove_colors.ipynb\"><img width=58px src=\"https://mybinder.org/static/images/logo_social.png\" />Run in binder</a></td>\n",
    "    <td><a target=\"_blank\"  href=\"https://colab.research.google.com/github/giswqs/earthengine-py-notebooks/blob/master/Tutorials/Keiko/remove_colors.ipynb\"><img src=\"https://www.tensorflow.org/images/colab_logo_32px.png\" /> Run in Google Colab</a></td>\n",
    "</table>"
   ]
  },
  {
   "cell_type": "markdown",
   "metadata": {},
   "source": [
    "## Install Earth Engine API\n",
    "Install the [Earth Engine Python API](https://developers.google.com/earth-engine/python_install) and [geehydro](https://github.com/giswqs/geehydro). The **geehydro** Python package builds on the [folium](https://github.com/python-visualization/folium) package and implements several methods for displaying Earth Engine data layers, such as `Map.addLayer()`, `Map.setCenter()`, `Map.centerObject()`, and `Map.setOptions()`.\n",
    "The following script checks if the geehydro package has been installed. If not, it will install geehydro, which automatically install its dependencies, including earthengine-api and folium."
   ]
  },
  {
   "cell_type": "code",
   "execution_count": 1,
   "metadata": {},
   "outputs": [],
   "source": [
    "import subprocess\n",
    "\n",
    "try:\n",
    "    import geehydro\n",
    "except ImportError:\n",
    "    print('geehydro package not installed. Installing ...')\n",
    "    subprocess.check_call([\"python\", '-m', 'pip', 'install', 'geehydro'])"
   ]
  },
  {
   "cell_type": "markdown",
   "metadata": {},
   "source": [
    "Import libraries"
   ]
  },
  {
   "cell_type": "code",
   "execution_count": 2,
   "metadata": {},
   "outputs": [],
   "source": [
    "import ee\n",
    "import folium\n",
    "import geehydro"
   ]
  },
  {
   "cell_type": "markdown",
   "metadata": {},
   "source": [
    "Authenticate and initialize Earth Engine API. You only need to authenticate the Earth Engine API once. "
   ]
  },
  {
   "cell_type": "code",
   "execution_count": 3,
   "metadata": {},
   "outputs": [],
   "source": [
    "try:\n",
    "    ee.Initialize()\n",
    "except Exception as e:\n",
    "    ee.Authenticate()\n",
    "    ee.Initialize()"
   ]
  },
  {
   "cell_type": "markdown",
   "metadata": {},
   "source": [
    "## Create an interactive map \n",
    "This step creates an interactive map using [folium](https://github.com/python-visualization/folium). The default basemap is the OpenStreetMap. Additional basemaps can be added using the `Map.setOptions()` function. \n",
    "The optional basemaps can be `ROADMAP`, `SATELLITE`, `HYBRID`, `TERRAIN`, or `ESRI`."
   ]
  },
  {
   "cell_type": "code",
   "execution_count": 4,
   "metadata": {},
   "outputs": [],
   "source": [
    "Map = folium.Map(location=[40, -100], zoom_start=4)\n",
    "Map.setOptions('HYBRID')"
   ]
  },
  {
   "cell_type": "markdown",
   "metadata": {},
   "source": [
    "## Add Earth Engine Python script "
   ]
  },
  {
   "cell_type": "code",
   "execution_count": 5,
   "metadata": {},
   "outputs": [],
   "source": [
    "# Credits to: Keiko Nomura, Senior Analyst, Space Intelligence Ltd\n",
    "# Source: https://medium.com/google-earth/10-tips-for-becoming-an-earth-engine-expert-b11aad9e598b\n",
    "# GEE JS: https://code.earthengine.google.com/?scriptPath=users%2Fnkeikon%2Fmedium%3Aremove_colours \n",
    "\n",
    "point = ee.Geometry.Point([2.173487088281263, 41.38710609258852])\n",
    "Map.centerObject(ee.FeatureCollection(point), 11)\n",
    "\n",
    "# Select the least cloudy image in 2019\n",
    "image = ee.ImageCollection('COPERNICUS/S2_SR') \\\n",
    "  .filter(ee.Filter.calendarRange(2019, 2019, 'year')) \\\n",
    "  .filterBounds(point) \\\n",
    "  .sort('CLOUDY_PIXEL_PERCENTAGE', True) \\\n",
    "  .select(['B2', 'B3', 'B4', 'B8']) \\\n",
    "  .first()\n",
    "\n",
    "# print('Image used', image)\n",
    "\n",
    "Map.addLayer(image, {\n",
    "  'bands': ['B4', 'B3', 'B2'],\n",
    "  'min': 0,\n",
    "  'max': 2500\n",
    "}, 'RGB (True colours)')\n",
    "Map.addLayer(image, {\n",
    "  'bands': ['B3', 'B3', 'B3'],\n",
    "  'min': 0,\n",
    "  'max': 2500,\n",
    "  'gamma': 1.5\n",
    "}, 'Grey (base)')\n",
    "\n",
    "# ======= #\n",
    "#  Green  #\n",
    "# ======= #\n",
    "\n",
    "# Select areas with vegetation (higher NDVI)\n",
    "imageNDVI = image.normalizedDifference(['B8', 'B4']).rename('ndvi')\n",
    "veg = imageNDVI.gte(0.4)\n",
    "imageGreen = image.multiply(veg)\n",
    "imageGreen_vis = imageGreen.selfMask().visualize(**{\n",
    "  'bands': ['B4', 'B3', 'B2'],\n",
    "  'min': 0,\n",
    "  'max': 2500\n",
    "})\n",
    "# Increase the strength of colour green to highlight the vegetation\n",
    "Map.addLayer(imageGreen_vis, {\n",
    "  'min': [50, 0, 50],\n",
    "  'max': [255, 200, 255]\n",
    "}, 'Green', True)\n",
    "\n",
    "# ======= #\n",
    "#   Red   #\n",
    "# ======= #\n",
    "\n",
    "# Select areas with non-vegetation (lower NDVI) and non-water (NDVI>0)\n",
    "bare = ee.Image(0).where(imageNDVI.gt(0), 1).where(imageNDVI.gt(0.1), 0)\n",
    "imageRed = image.multiply(bare)\n",
    "imageRed_vis = imageRed.selfMask().visualize(**{\n",
    "  'bands': ['B4', 'B3', 'B2'],\n",
    "  'min': 0,\n",
    "  'max': 2500\n",
    "})\n",
    "# Increase the strength of colour red\n",
    "Map.addLayer(imageRed_vis, {\n",
    "  'min': [0, 50, 50],\n",
    "  'max': [255, 255, 255]\n",
    "}, 'Red', False)\n",
    "\n",
    "# ======== #\n",
    "#   Blue   #\n",
    "# ======== #\n",
    "\n",
    "# Select areas with higher Normalised Difference Water Index (NDWI)\n",
    "# You can also use nir band (use Otsu method to find a threshold)\n",
    "imageNDWI = image.normalizedDifference(['B3', 'B8']).rename('ndwi')\n",
    "water = imageNDWI.gte(0.2)\n",
    "imageBlue = image.multiply(water)\n",
    "imageBlue_vis = imageBlue.selfMask().visualize(**{\n",
    "  'bands': ['B4', 'B3', 'B2'],\n",
    "  'min': 0,\n",
    "  'max': 2500\n",
    "})\n",
    "# Increase the strength of colour blue to highlight the water\n",
    "Map.addLayer(imageBlue_vis, {\n",
    "  'min': [10, 10, 0],\n",
    "  'max': [255, 255, 200]\n",
    "}, 'Blue', False)\n",
    "\n",
    "# ======== #\n",
    "#  Export  #\n",
    "# ======== #\n",
    "\n",
    "# Export the image as a mosaic (e.g. green), or use blend()\n",
    "grey = image.multiply(veg.select('ndvi').lt(0.4))\n",
    "mosaicGreen = ee.ImageCollection([\n",
    "  imageGreen_vis.visualize(**{\n",
    "    'min': [50, 0, 50],\n",
    "    'max': [255, 200, 255]\n",
    "  }),\n",
    "  grey.selfMask().visualize(**{\n",
    "    'bands': ['B3', 'B3', 'B3'],\n",
    "    'min': 0,\n",
    "    'max': 2500,\n",
    "    'gamma': 1.5\n",
    "  }),\n",
    "]).mosaic()\n",
    "#Map.addLayer(mosaicGreen, {}, 'export')\n",
    "\n",
    "# Export.image.toDrive({\n",
    "#   'image': mosaicGreen,\n",
    "#   description: 'green',\n",
    "#   'region': point.buffer(10000).bounds(),\n",
    "#   crs: 'EPSG:3857',\n",
    "#   'scale': 10\n",
    "# })\n",
    "\n",
    "# Other examples\n",
    "population = ee.Image(\"WorldPop/GP/100m/pop/ESP_2019\")\n",
    "pop_vis = {\n",
    "  'min': 0.0,\n",
    "  'max': 200.0,\n",
    "  'opacity': 0.3,\n",
    "  'palette': ['0000C0', 'FFFF80', 'C00000'],\n",
    "}\n",
    "Map.addLayer(population, pop_vis, 'Population', False)\n",
    "\n",
    "collectionCO = ee.ImageCollection('COPERNICUS/S5P/NRTI/L3_CO') \\\n",
    "  .select('CO_column_number_density') \\\n",
    "  .filterDate('2019-01-01', '2019-12-31')\n",
    "\n",
    "CO_viz = {\n",
    "  'min': 0.031,\n",
    "  'max': 0.034,\n",
    "  'opacity': 0.3,\n",
    "  'palette': ['black', 'blue', 'purple', 'cyan', 'green', 'yellow', 'red']\n",
    "}\n",
    "\n",
    "Map.addLayer(collectionCO.mean(), CO_viz, 'Carbon Monoxide', False)\n",
    "\n",
    "# ============ #\n",
    "#  Topography  #\n",
    "# ============ #\n",
    "\n",
    "# Optional: add topography by computing a hillshade using the terrain algorithms\n",
    "elev = ee.Image('USGS/SRTMGL1_003')\n",
    "shade = ee.Terrain.hillshade(elev)\n",
    "\n",
    "greenTR = ee.ImageCollection([\n",
    "  imageGreen_vis.visualize(**{\n",
    "    'min': [50, 0, 50],\n",
    "    'max': [255, 200, 255]\n",
    "  }),\n",
    "  shade.visualize(**{\n",
    "    'bands': ['hillshade', 'hillshade', 'hillshade'],\n",
    "    'opacity': 0.3\n",
    "  }),\n",
    "]).mosaic()\n",
    "\n",
    "Map.addLayer(greenTR.mask(imageGreen_vis), {\n",
    "}, 'Green (with topography)', False)\n",
    "\n",
    "# Convert the visualized elevation to HSV, first converting to [0, 1] data.\n",
    "hsv = greenTR.divide(255).rgbToHsv()\n",
    "# Select only the hue and saturation bands.\n",
    "hs = hsv.select(0, 1)\n",
    "# Convert the hillshade to [0, 1] data, as expected by the HSV algorithm.\n",
    "v = shade.divide(255)\n",
    "# Create a visualization image by converting back to RGB from HSV.\n",
    "# Note the cast to byte in order to export the image correctly.\n",
    "rgb = hs.addBands(v).hsvToRgb().multiply(255).byte()\n",
    "Map.addLayer(rgb.mask(imageGreen_vis), {'gamma': 0.6}, 'Green (topography visualised)', False)"
   ]
  },
  {
   "cell_type": "markdown",
   "metadata": {},
   "source": [
    "## Display Earth Engine data layers "
   ]
  },
  {
   "cell_type": "code",
   "execution_count": 6,
   "metadata": {},
   "outputs": [
    {
     "data": {
      "text/html": [
       "<div style=\"width:100%;\"><div style=\"position:relative;width:100%;height:0;padding-bottom:60%;\"><iframe src=\"data:text/html;charset=utf-8;base64,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\" style=\"position:absolute;width:100%;height:100%;left:0;top:0;border:none !important;\" allowfullscreen webkitallowfullscreen mozallowfullscreen></iframe></div></div>"
      ],
      "text/plain": [
       "<folium.folium.Map at 0x7f886a132390>"
      ]
     },
     "execution_count": 6,
     "metadata": {},
     "output_type": "execute_result"
    }
   ],
   "source": [
    "Map.setControlVisibility(layerControl=True, fullscreenControl=True, latLngPopup=True)\n",
    "Map"
   ]
  }
 ],
 "metadata": {
  "anaconda-cloud": {},
  "kernelspec": {
   "display_name": "Python 3",
   "language": "python",
   "name": "python3"
  },
  "language_info": {
   "codemirror_mode": {
    "name": "ipython",
    "version": 3
   },
   "file_extension": ".py",
   "mimetype": "text/x-python",
   "name": "python",
   "nbconvert_exporter": "python",
   "pygments_lexer": "ipython3",
   "version": "3.7.3"
  }
 },
 "nbformat": 4,
 "nbformat_minor": 1
}
