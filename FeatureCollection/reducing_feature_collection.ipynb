{
  "cells": [
    {
      "cell_type": "markdown",
      "metadata": {},
      "source": [
        "<table class=\"ee-notebook-buttons\" align=\"left\">\n",
        "    <td><a target=\"_blank\"  href=\"https://github.com/giswqs/earthengine-py-notebooks/tree/master/FeatureCollection/reducing_feature_collection.ipynb\"><img width=32px src=\"https://www.tensorflow.org/images/GitHub-Mark-32px.png\" /> View source on GitHub</a></td>\n",
        "    <td><a target=\"_blank\"  href=\"https://nbviewer.jupyter.org/github/giswqs/earthengine-py-notebooks/blob/master/FeatureCollection/reducing_feature_collection.ipynb\"><img width=26px src=\"https://upload.wikimedia.org/wikipedia/commons/thumb/3/38/Jupyter_logo.svg/883px-Jupyter_logo.svg.png\" />Notebook Viewer</a></td>\n",
        "    <td><a target=\"_blank\"  href=\"https://mybinder.org/v2/gh/giswqs/earthengine-py-notebooks/master?filepath=FeatureCollection/reducing_feature_collection.ipynb\"><img width=58px src=\"https://mybinder.org/static/images/logo_social.png\" />Run in binder</a></td>\n",
        "    <td><a target=\"_blank\"  href=\"https://colab.research.google.com/github/giswqs/earthengine-py-notebooks/blob/master/FeatureCollection/reducing_feature_collection.ipynb\"><img src=\"https://www.tensorflow.org/images/colab_logo_32px.png\" /> Run in Google Colab</a></td>\n",
        "</table>"
      ]
    },
    {
      "cell_type": "markdown",
      "metadata": {},
      "source": [
        "## Install Earth Engine API\n",
        "Install the [Earth Engine Python API](https://developers.google.com/earth-engine/python_install) and [geehydro](https://github.com/giswqs/geehydro). The **geehydro** Python package builds on the [folium](https://github.com/python-visualization/folium) package and implements several methods for displaying Earth Engine data layers, such as `Map.addLayer()`, `Map.setCenter()`, `Map.centerObject()`, and `Map.setOptions()`.\n",
        "The magic command `%%capture` can be used to hide output from a specific cell. Uncomment these lines if you are running this notebook for the first time."
      ]
    },
    {
      "cell_type": "code",
      "metadata": {},
      "source": [
        "# %%capture\n",
        "# !pip install earthengine-api\n",
        "# !pip install geehydro"
      ],
      "outputs": [],
      "execution_count": null
    },
    {
      "cell_type": "markdown",
      "metadata": {},
      "source": [
        "Import libraries"
      ]
    },
    {
      "cell_type": "code",
      "metadata": {},
      "source": [
        "import ee\n",
        "import folium\n",
        "import geehydro"
      ],
      "outputs": [],
      "execution_count": null
    },
    {
      "cell_type": "markdown",
      "metadata": {},
      "source": [
        "Authenticate and initialize Earth Engine API. You only need to authenticate the Earth Engine API once. Uncomment the line `ee.Authenticate()` \n",
        "if you are running this notebook for the first time or if you are getting an authentication error.  "
      ]
    },
    {
      "cell_type": "code",
      "metadata": {},
      "source": [
        "# ee.Authenticate()\n",
        "ee.Initialize()"
      ],
      "outputs": [],
      "execution_count": null
    },
    {
      "cell_type": "markdown",
      "metadata": {},
      "source": [
        "## Create an interactive map \n",
        "This step creates an interactive map using [folium](https://github.com/python-visualization/folium). The default basemap is the OpenStreetMap. Additional basemaps can be added using the `Map.setOptions()` function. \n",
        "The optional basemaps can be `ROADMAP`, `SATELLITE`, `HYBRID`, `TERRAIN`, or `ESRI`."
      ]
    },
    {
      "cell_type": "code",
      "metadata": {},
      "source": [
        "Map = folium.Map(location=[40, -100], zoom_start=4)\n",
        "Map.setOptions('HYBRID')"
      ],
      "outputs": [],
      "execution_count": null
    },
    {
      "cell_type": "markdown",
      "metadata": {},
      "source": [
        "## Add Earth Engine Python script "
      ]
    },
    {
      "cell_type": "code",
      "metadata": {},
      "source": [
        "def areaDiff(feature):\n",
        "  area = feature.geometry().area().divide(1000 * 1000)\n",
        "  # Compute the differece between computed area and the area property.\n",
        "  diff = area.subtract(ee.Number.parse(feature.get('areasqkm')))\n",
        "  # Return the feature with the squared difference set to the 'diff' property.\n",
        "  return feature.set('diff', diff.pow(2))\n",
        "\n",
        "\n",
        "# Load watersheds from a data table and filter to the continental US.\n",
        "sheds = ee.FeatureCollection('USGS/WBD/2017/HUC06') \\\n",
        "  .filterBounds(ee.Geometry.Rectangle(-127.18, 19.39, -62.75, 51.29))\n",
        "\n",
        "# This function computes the squared difference between an area property\n",
        "# and area computed directly from the feature's geometry.\n",
        "# areaDiff = function(feature) {\n",
        "#   # Compute area in sq. km directly from the geometry.\n",
        "#   area = feature.geometry().area().divide(1000 * 1000)\n",
        "#   # Compute the differece between computed area and the area property.\n",
        "#   diff = area.subtract(ee.Number.parse(feature.get('areasqkm')))\n",
        "#   # Return the feature with the squared difference set to the 'diff' property.\n",
        "#   return feature.set('diff', diff.pow(2))\n",
        "# }\n",
        "\n",
        "# Calculate RMSE for population of difference pairs.\n",
        "rmse = ee.Number(\n",
        "  # Map the difference function over the collection.\n",
        "  sheds.map(areaDiff)\n",
        "  # Reduce to get the mean squared difference. \\\n",
        "  .reduceColumns(ee.Reducer.mean(), ['diff']) \\\n",
        "  .get('mean')\n",
        ") \\\n",
        ".sqrt()\n",
        "\n",
        "# Print the result.\n",
        "print('RMSE=', rmse.getInfo())\n",
        "\n"
      ],
      "outputs": [],
      "execution_count": null
    },
    {
      "cell_type": "markdown",
      "metadata": {},
      "source": [
        "## Display Earth Engine data layers "
      ]
    },
    {
      "cell_type": "code",
      "metadata": {},
      "source": [
        "Map.setControlVisibility(layerControl=True, fullscreenControl=True, latLngPopup=True)\n",
        "Map"
      ],
      "outputs": [],
      "execution_count": null
    }
  ],
  "metadata": {
    "anaconda-cloud": {},
    "kernelspec": {
      "display_name": "Python 3",
      "language": "python",
      "name": "python3"
    },
    "language_info": {
      "codemirror_mode": {
        "name": "ipython",
        "version": 3
      },
      "file_extension": ".py",
      "mimetype": "text/x-python",
      "name": "python",
      "nbconvert_exporter": "python",
      "pygments_lexer": "ipython3",
      "version": "3.6.1"
    }
  },
  "nbformat": 4,
  "nbformat_minor": 1
}