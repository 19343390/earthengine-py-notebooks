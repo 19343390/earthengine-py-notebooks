{
  "cells": [
    {
      "cell_type": "markdown",
      "metadata": {},
      "source": [
        "<table class=\"ee-notebook-buttons\" align=\"left\">\n",
        "    <td><a target=\"_blank\"  href=\"https://github.com/giswqs/earthengine-py-notebooks/tree/master/FeatureCollection/idw_interpolation.ipynb\"><img width=32px src=\"https://www.tensorflow.org/images/GitHub-Mark-32px.png\" /> View source on GitHub</a></td>\n",
        "    <td><a target=\"_blank\"  href=\"https://nbviewer.jupyter.org/github/giswqs/earthengine-py-notebooks/blob/master/FeatureCollection/idw_interpolation.ipynb\"><img width=26px src=\"https://upload.wikimedia.org/wikipedia/commons/thumb/3/38/Jupyter_logo.svg/883px-Jupyter_logo.svg.png\" />Notebook Viewer</a></td>\n",
        "    <td><a target=\"_blank\"  href=\"https://mybinder.org/v2/gh/giswqs/earthengine-py-notebooks/master?filepath=FeatureCollection/idw_interpolation.ipynb\"><img width=58px src=\"https://mybinder.org/static/images/logo_social.png\" />Run in binder</a></td>\n",
        "    <td><a target=\"_blank\"  href=\"https://colab.research.google.com/github/giswqs/earthengine-py-notebooks/blob/master/FeatureCollection/idw_interpolation.ipynb\"><img src=\"https://www.tensorflow.org/images/colab_logo_32px.png\" /> Run in Google Colab</a></td>\n",
        "</table>"
      ]
    },
    {
      "cell_type": "markdown",
      "metadata": {},
      "source": [
        "## Install Earth Engine API\n",
        "Install the [Earth Engine Python API](https://developers.google.com/earth-engine/python_install) and [geehydro](https://github.com/giswqs/geehydro). The **geehydro** Python package builds on the [folium](https://github.com/python-visualization/folium) package and implements several methods for displaying Earth Engine data layers, such as `Map.addLayer()`, `Map.setCenter()`, `Map.centerObject()`, and `Map.setOptions()`.\n",
        "The magic command `%%capture` can be used to hide output from a specific cell."
      ]
    },
    {
      "cell_type": "code",
      "metadata": {},
      "source": [
        "# %%capture\n",
        "# !pip install earthengine-api\n",
        "# !pip install geehydro"
      ],
      "outputs": [],
      "execution_count": null
    },
    {
      "cell_type": "markdown",
      "metadata": {},
      "source": [
        "Import libraries"
      ]
    },
    {
      "cell_type": "code",
      "metadata": {},
      "source": [
        "import ee\n",
        "import folium\n",
        "import geehydro"
      ],
      "outputs": [],
      "execution_count": null
    },
    {
      "cell_type": "markdown",
      "metadata": {},
      "source": [
        "Authenticate and initialize Earth Engine API. You only need to authenticate the Earth Engine API once. Uncomment the line `ee.Authenticate()` \n",
        "if you are running this notebook for this first time or if you are getting an authentication error.  "
      ]
    },
    {
      "cell_type": "code",
      "metadata": {},
      "source": [
        "# ee.Authenticate()\n",
        "ee.Initialize()"
      ],
      "outputs": [],
      "execution_count": null
    },
    {
      "cell_type": "markdown",
      "metadata": {},
      "source": [
        "## Create an interactive map \n",
        "This step creates an interactive map using [folium](https://github.com/python-visualization/folium). The default basemap is the OpenStreetMap. Additional basemaps can be added using the `Map.setOptions()` function. \n",
        "The optional basemaps can be `ROADMAP`, `SATELLITE`, `HYBRID`, `TERRAIN`, or `ESRI`."
      ]
    },
    {
      "cell_type": "code",
      "metadata": {},
      "source": [
        "Map = folium.Map(location=[40, -100], zoom_start=4)\n",
        "Map.setOptions('HYBRID')"
      ],
      "outputs": [],
      "execution_count": null
    },
    {
      "cell_type": "markdown",
      "metadata": {},
      "source": [
        "## Add Earth Engine Python script "
      ]
    },
    {
      "cell_type": "code",
      "metadata": {},
      "source": [
        "def sampling(sample):\n",
        "    lat = sample.get('latitude')\n",
        "    lon = sample.get('longitude')\n",
        "    ch4 = sample.get('ch4')\n",
        "    return ee.Feature(ee.Geometry.Point([lon, lat]), {'ch4': ch4})\n",
        "\n",
        "# Import two weeks of S5P methane and composite by mean.\n",
        "ch4 = ee.ImageCollection('COPERNICUS/S5P/OFFL/L3_CH4') \\\n",
        "  .select('CH4_column_volume_mixing_ratio_dry_air') \\\n",
        "  .filterDate('2019-08-01', '2019-08-15') \\\n",
        "  .mean() \\\n",
        "  .rename('ch4')\n",
        "\n",
        "# Define an area to perform interpolation over.\n",
        "aoi = ee.Geometry.Polygon(\n",
        "    [[[-95.68487605978851, 43.09844605027055],\n",
        "       [-95.68487605978851, 37.39358590079781],\n",
        "       [-87.96148738791351, 37.39358590079781],\n",
        "       [-87.96148738791351, 43.09844605027055]]], {}, False)\n",
        "\n",
        "# Sample the methane composite to generate a FeatureCollection.\n",
        "samples = ch4.addBands(ee.Image.pixelLonLat()) \\\n",
        "  .sample(**{'region': aoi, 'numPixels': 1500,\n",
        "    'scale':1000, 'projection': 'EPSG:4326'}) \\\n",
        "  .map(sampling)\n",
        "\n",
        "# Combine mean and standard deviation reducers for efficiency.\n",
        "combinedReducer = ee.Reducer.mean().combine(**{\n",
        "  'reducer2': ee.Reducer.stdDev(),\n",
        "  'sharedInputs': True})\n",
        "\n",
        "# Estimate global mean and standard deviation from the points.\n",
        "stats = samples.reduceColumns(**{\n",
        "  'reducer': combinedReducer,\n",
        "  'selectors': ['ch4']})\n",
        "\n",
        "# Do the interpolation, valid to 70 kilometers.\n",
        "interpolated = samples.inverseDistance(**{\n",
        "  'range': 7e4,\n",
        "  'propertyName': 'ch4',\n",
        "  'mean': stats.get('mean'),\n",
        "  'stdDev': stats.get('stdDev'),\n",
        "  'gamma': 0.3})\n",
        "\n",
        "# Define visualization arguments.\n",
        "band_viz = {\n",
        "  'min': 1800,\n",
        "  'max': 1900,\n",
        "  'palette': ['0D0887', '5B02A3', '9A179B', 'CB4678',\n",
        "            'EB7852', 'FBB32F', 'F0F921']}\n",
        "\n",
        "# Display to map.\n",
        "# Map.centerObject(ee.FeatureCollection(aoi), 7)\n",
        "Map.addLayer(ch4, band_viz, 'CH4')\n",
        "# Map.addLayer(interpolated, band_viz, 'CH4 Interpolated')\n"
      ],
      "outputs": [],
      "execution_count": null
    },
    {
      "cell_type": "markdown",
      "metadata": {},
      "source": [
        "## Display Earth Engine data layers "
      ]
    },
    {
      "cell_type": "code",
      "metadata": {},
      "source": [
        "Map.setControlVisibility(layerControl=True, fullscreenControl=True, latLngPopup=True)\n",
        "Map"
      ],
      "outputs": [],
      "execution_count": null
    }
  ],
  "metadata": {
    "anaconda-cloud": {},
    "kernelspec": {
      "display_name": "Python 3",
      "language": "python",
      "name": "python3"
    },
    "language_info": {
      "codemirror_mode": {
        "name": "ipython",
        "version": 3
      },
      "file_extension": ".py",
      "mimetype": "text/x-python",
      "name": "python",
      "nbconvert_exporter": "python",
      "pygments_lexer": "ipython3",
      "version": "3.6.1"
    }
  },
  "nbformat": 4,
  "nbformat_minor": 1
}